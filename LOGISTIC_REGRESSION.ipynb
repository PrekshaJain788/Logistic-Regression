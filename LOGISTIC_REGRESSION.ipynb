{
  "nbformat": 4,
  "nbformat_minor": 0,
  "metadata": {
    "colab": {
      "provenance": []
    },
    "kernelspec": {
      "name": "python3",
      "display_name": "Python 3"
    },
    "language_info": {
      "name": "python"
    }
  },
  "cells": [
    {
      "cell_type": "code",
      "execution_count": null,
      "metadata": {
        "colab": {
          "base_uri": "https://localhost:8080/"
        },
        "id": "x5a6dSpbb9MI",
        "outputId": "c800cbc0-fb8d-4e67-d1f3-c98566f39fb0"
      },
      "outputs": [
        {
          "output_type": "stream",
          "name": "stdout",
          "text": [
            "Mounted at /content/drive\n"
          ]
        }
      ],
      "source": [
        "# mount the drive\n",
        "from google.colab import drive\n",
        "drive.mount('/content/drive')"
      ]
    },
    {
      "cell_type": "code",
      "source": [
        "# import all relevant python packages \n",
        "import numpy as np \n",
        "import pandas as pd \n",
        "\n",
        "from sklearn import preprocessing\n",
        "from sklearn.preprocessing import StandardScaler, MinMaxScaler\n",
        "import matplotlib.pyplot as plt \n",
        "from matplotlib import pyplot\n",
        "plt.rc(\"font\", size=14)\n",
        "import seaborn as sns\n",
        "sns.set(style=\"white\") #white background style for seaborn plots\n",
        "sns.set(style=\"whitegrid\", color_codes=True)\n",
        "from sklearn.model_selection import train_test_split\n",
        "from sklearn.linear_model import LogisticRegression\n",
        "\n",
        "import warnings\n",
        "warnings.simplefilter(action='ignore')"
      ],
      "metadata": {
        "id": "uS7gQKDQc1Ff"
      },
      "execution_count": null,
      "outputs": []
    },
    {
      "cell_type": "code",
      "source": [
        "# Read CSV train data file into DataFrame\n",
        "inc_df = pd.read_csv('/content/drive/MyDrive/ML NIIT/SPRINT 3/DS2_C5_S3_Income_Data_Challenge.csv')\n",
        "inc_df.head()"
      ],
      "metadata": {
        "colab": {
          "base_uri": "https://localhost:8080/",
          "height": 357
        },
        "id": "aXkaoEHac3uV",
        "outputId": "c75e6214-4908-4e51-b49d-7ca04702fe93"
      },
      "execution_count": null,
      "outputs": [
        {
          "output_type": "execute_result",
          "data": {
            "text/plain": [
              "   Age          WorkClass  Fnlwgt   Education  Education_Num  \\\n",
              "0   39          State-gov   77516   Bachelors             13   \n",
              "1   50   Self-emp-not-inc   83311   Bachelors             13   \n",
              "2   38            Private  215646     HS-grad              9   \n",
              "3   53            Private  234721        11th              7   \n",
              "4   28            Private  338409   Bachelors             13   \n",
              "\n",
              "        Marital_Status          Occupation    Relationship    Race   Gender  \\\n",
              "0        Never-married        Adm-clerical   Not-in-family   White     Male   \n",
              "1   Married-civ-spouse     Exec-managerial         Husband   White     Male   \n",
              "2             Divorced   Handlers-cleaners   Not-in-family   White     Male   \n",
              "3   Married-civ-spouse   Handlers-cleaners         Husband   Black     Male   \n",
              "4   Married-civ-spouse      Prof-specialty            Wife   Black   Female   \n",
              "\n",
              "   Capital_Gain  Capital_Loss  Hours_Per_Week  Native_Country Income_Bracket  \n",
              "0          2174             0              40   United-States          <=50K  \n",
              "1             0             0              13   United-States          <=50K  \n",
              "2             0             0              40   United-States          <=50K  \n",
              "3             0             0              40   United-States          <=50K  \n",
              "4             0             0              40            Cuba          <=50K  "
            ],
            "text/html": [
              "\n",
              "  <div id=\"df-079a373a-d2f4-470e-b683-351f60e5d118\">\n",
              "    <div class=\"colab-df-container\">\n",
              "      <div>\n",
              "<style scoped>\n",
              "    .dataframe tbody tr th:only-of-type {\n",
              "        vertical-align: middle;\n",
              "    }\n",
              "\n",
              "    .dataframe tbody tr th {\n",
              "        vertical-align: top;\n",
              "    }\n",
              "\n",
              "    .dataframe thead th {\n",
              "        text-align: right;\n",
              "    }\n",
              "</style>\n",
              "<table border=\"1\" class=\"dataframe\">\n",
              "  <thead>\n",
              "    <tr style=\"text-align: right;\">\n",
              "      <th></th>\n",
              "      <th>Age</th>\n",
              "      <th>WorkClass</th>\n",
              "      <th>Fnlwgt</th>\n",
              "      <th>Education</th>\n",
              "      <th>Education_Num</th>\n",
              "      <th>Marital_Status</th>\n",
              "      <th>Occupation</th>\n",
              "      <th>Relationship</th>\n",
              "      <th>Race</th>\n",
              "      <th>Gender</th>\n",
              "      <th>Capital_Gain</th>\n",
              "      <th>Capital_Loss</th>\n",
              "      <th>Hours_Per_Week</th>\n",
              "      <th>Native_Country</th>\n",
              "      <th>Income_Bracket</th>\n",
              "    </tr>\n",
              "  </thead>\n",
              "  <tbody>\n",
              "    <tr>\n",
              "      <th>0</th>\n",
              "      <td>39</td>\n",
              "      <td>State-gov</td>\n",
              "      <td>77516</td>\n",
              "      <td>Bachelors</td>\n",
              "      <td>13</td>\n",
              "      <td>Never-married</td>\n",
              "      <td>Adm-clerical</td>\n",
              "      <td>Not-in-family</td>\n",
              "      <td>White</td>\n",
              "      <td>Male</td>\n",
              "      <td>2174</td>\n",
              "      <td>0</td>\n",
              "      <td>40</td>\n",
              "      <td>United-States</td>\n",
              "      <td>&lt;=50K</td>\n",
              "    </tr>\n",
              "    <tr>\n",
              "      <th>1</th>\n",
              "      <td>50</td>\n",
              "      <td>Self-emp-not-inc</td>\n",
              "      <td>83311</td>\n",
              "      <td>Bachelors</td>\n",
              "      <td>13</td>\n",
              "      <td>Married-civ-spouse</td>\n",
              "      <td>Exec-managerial</td>\n",
              "      <td>Husband</td>\n",
              "      <td>White</td>\n",
              "      <td>Male</td>\n",
              "      <td>0</td>\n",
              "      <td>0</td>\n",
              "      <td>13</td>\n",
              "      <td>United-States</td>\n",
              "      <td>&lt;=50K</td>\n",
              "    </tr>\n",
              "    <tr>\n",
              "      <th>2</th>\n",
              "      <td>38</td>\n",
              "      <td>Private</td>\n",
              "      <td>215646</td>\n",
              "      <td>HS-grad</td>\n",
              "      <td>9</td>\n",
              "      <td>Divorced</td>\n",
              "      <td>Handlers-cleaners</td>\n",
              "      <td>Not-in-family</td>\n",
              "      <td>White</td>\n",
              "      <td>Male</td>\n",
              "      <td>0</td>\n",
              "      <td>0</td>\n",
              "      <td>40</td>\n",
              "      <td>United-States</td>\n",
              "      <td>&lt;=50K</td>\n",
              "    </tr>\n",
              "    <tr>\n",
              "      <th>3</th>\n",
              "      <td>53</td>\n",
              "      <td>Private</td>\n",
              "      <td>234721</td>\n",
              "      <td>11th</td>\n",
              "      <td>7</td>\n",
              "      <td>Married-civ-spouse</td>\n",
              "      <td>Handlers-cleaners</td>\n",
              "      <td>Husband</td>\n",
              "      <td>Black</td>\n",
              "      <td>Male</td>\n",
              "      <td>0</td>\n",
              "      <td>0</td>\n",
              "      <td>40</td>\n",
              "      <td>United-States</td>\n",
              "      <td>&lt;=50K</td>\n",
              "    </tr>\n",
              "    <tr>\n",
              "      <th>4</th>\n",
              "      <td>28</td>\n",
              "      <td>Private</td>\n",
              "      <td>338409</td>\n",
              "      <td>Bachelors</td>\n",
              "      <td>13</td>\n",
              "      <td>Married-civ-spouse</td>\n",
              "      <td>Prof-specialty</td>\n",
              "      <td>Wife</td>\n",
              "      <td>Black</td>\n",
              "      <td>Female</td>\n",
              "      <td>0</td>\n",
              "      <td>0</td>\n",
              "      <td>40</td>\n",
              "      <td>Cuba</td>\n",
              "      <td>&lt;=50K</td>\n",
              "    </tr>\n",
              "  </tbody>\n",
              "</table>\n",
              "</div>\n",
              "      <button class=\"colab-df-convert\" onclick=\"convertToInteractive('df-079a373a-d2f4-470e-b683-351f60e5d118')\"\n",
              "              title=\"Convert this dataframe to an interactive table.\"\n",
              "              style=\"display:none;\">\n",
              "        \n",
              "  <svg xmlns=\"http://www.w3.org/2000/svg\" height=\"24px\"viewBox=\"0 0 24 24\"\n",
              "       width=\"24px\">\n",
              "    <path d=\"M0 0h24v24H0V0z\" fill=\"none\"/>\n",
              "    <path d=\"M18.56 5.44l.94 2.06.94-2.06 2.06-.94-2.06-.94-.94-2.06-.94 2.06-2.06.94zm-11 1L8.5 8.5l.94-2.06 2.06-.94-2.06-.94L8.5 2.5l-.94 2.06-2.06.94zm10 10l.94 2.06.94-2.06 2.06-.94-2.06-.94-.94-2.06-.94 2.06-2.06.94z\"/><path d=\"M17.41 7.96l-1.37-1.37c-.4-.4-.92-.59-1.43-.59-.52 0-1.04.2-1.43.59L10.3 9.45l-7.72 7.72c-.78.78-.78 2.05 0 2.83L4 21.41c.39.39.9.59 1.41.59.51 0 1.02-.2 1.41-.59l7.78-7.78 2.81-2.81c.8-.78.8-2.07 0-2.86zM5.41 20L4 18.59l7.72-7.72 1.47 1.35L5.41 20z\"/>\n",
              "  </svg>\n",
              "      </button>\n",
              "      \n",
              "  <style>\n",
              "    .colab-df-container {\n",
              "      display:flex;\n",
              "      flex-wrap:wrap;\n",
              "      gap: 12px;\n",
              "    }\n",
              "\n",
              "    .colab-df-convert {\n",
              "      background-color: #E8F0FE;\n",
              "      border: none;\n",
              "      border-radius: 50%;\n",
              "      cursor: pointer;\n",
              "      display: none;\n",
              "      fill: #1967D2;\n",
              "      height: 32px;\n",
              "      padding: 0 0 0 0;\n",
              "      width: 32px;\n",
              "    }\n",
              "\n",
              "    .colab-df-convert:hover {\n",
              "      background-color: #E2EBFA;\n",
              "      box-shadow: 0px 1px 2px rgba(60, 64, 67, 0.3), 0px 1px 3px 1px rgba(60, 64, 67, 0.15);\n",
              "      fill: #174EA6;\n",
              "    }\n",
              "\n",
              "    [theme=dark] .colab-df-convert {\n",
              "      background-color: #3B4455;\n",
              "      fill: #D2E3FC;\n",
              "    }\n",
              "\n",
              "    [theme=dark] .colab-df-convert:hover {\n",
              "      background-color: #434B5C;\n",
              "      box-shadow: 0px 1px 3px 1px rgba(0, 0, 0, 0.15);\n",
              "      filter: drop-shadow(0px 1px 2px rgba(0, 0, 0, 0.3));\n",
              "      fill: #FFFFFF;\n",
              "    }\n",
              "  </style>\n",
              "\n",
              "      <script>\n",
              "        const buttonEl =\n",
              "          document.querySelector('#df-079a373a-d2f4-470e-b683-351f60e5d118 button.colab-df-convert');\n",
              "        buttonEl.style.display =\n",
              "          google.colab.kernel.accessAllowed ? 'block' : 'none';\n",
              "\n",
              "        async function convertToInteractive(key) {\n",
              "          const element = document.querySelector('#df-079a373a-d2f4-470e-b683-351f60e5d118');\n",
              "          const dataTable =\n",
              "            await google.colab.kernel.invokeFunction('convertToInteractive',\n",
              "                                                     [key], {});\n",
              "          if (!dataTable) return;\n",
              "\n",
              "          const docLinkHtml = 'Like what you see? Visit the ' +\n",
              "            '<a target=\"_blank\" href=https://colab.research.google.com/notebooks/data_table.ipynb>data table notebook</a>'\n",
              "            + ' to learn more about interactive tables.';\n",
              "          element.innerHTML = '';\n",
              "          dataTable['output_type'] = 'display_data';\n",
              "          await google.colab.output.renderOutput(dataTable, element);\n",
              "          const docLink = document.createElement('div');\n",
              "          docLink.innerHTML = docLinkHtml;\n",
              "          element.appendChild(docLink);\n",
              "        }\n",
              "      </script>\n",
              "    </div>\n",
              "  </div>\n",
              "  "
            ]
          },
          "metadata": {},
          "execution_count": 5
        }
      ]
    },
    {
      "cell_type": "markdown",
      "source": [
        "#Structure the data"
      ],
      "metadata": {
        "id": "OVHWyX-ciSV0"
      }
    },
    {
      "cell_type": "code",
      "source": [
        "# shape of the dataset\n",
        "print('The number of samples in data is {}.'.format(inc_df.shape[0]))"
      ],
      "metadata": {
        "colab": {
          "base_uri": "https://localhost:8080/"
        },
        "id": "1riB1PdOdrKK",
        "outputId": "cecef16e-a5ab-4ca5-a050-01379c1b61d5"
      },
      "execution_count": null,
      "outputs": [
        {
          "output_type": "stream",
          "name": "stdout",
          "text": [
            "The number of samples in data is 32561.\n"
          ]
        }
      ]
    },
    {
      "cell_type": "code",
      "source": [
        "print(inc_df.shape)"
      ],
      "metadata": {
        "colab": {
          "base_uri": "https://localhost:8080/"
        },
        "id": "oFEumsbseOW4",
        "outputId": "6a32e331-e7db-4cd4-835b-b428a8d274a4"
      },
      "execution_count": null,
      "outputs": [
        {
          "output_type": "stream",
          "name": "stdout",
          "text": [
            "(32561, 15)\n"
          ]
        }
      ]
    },
    {
      "cell_type": "code",
      "source": [
        "inc_df.describe()"
      ],
      "metadata": {
        "colab": {
          "base_uri": "https://localhost:8080/",
          "height": 300
        },
        "id": "ePhIH5wmeHpI",
        "outputId": "916c7dfc-96dc-4b24-f7c2-280bc643fb50"
      },
      "execution_count": null,
      "outputs": [
        {
          "output_type": "execute_result",
          "data": {
            "text/plain": [
              "                Age        Fnlwgt  Education_Num  Capital_Gain  Capital_Loss  \\\n",
              "count  32561.000000  3.256100e+04   32561.000000  32561.000000  32561.000000   \n",
              "mean      38.581647  1.897784e+05      10.080679   1077.648844     87.303830   \n",
              "std       13.640433  1.055500e+05       2.572720   7385.292085    402.960219   \n",
              "min       17.000000  1.228500e+04       1.000000      0.000000      0.000000   \n",
              "25%       28.000000  1.178270e+05       9.000000      0.000000      0.000000   \n",
              "50%       37.000000  1.783560e+05      10.000000      0.000000      0.000000   \n",
              "75%       48.000000  2.370510e+05      12.000000      0.000000      0.000000   \n",
              "max       90.000000  1.484705e+06      16.000000  99999.000000   4356.000000   \n",
              "\n",
              "       Hours_Per_Week  \n",
              "count    32561.000000  \n",
              "mean        40.437456  \n",
              "std         12.347429  \n",
              "min          1.000000  \n",
              "25%         40.000000  \n",
              "50%         40.000000  \n",
              "75%         45.000000  \n",
              "max         99.000000  "
            ],
            "text/html": [
              "\n",
              "  <div id=\"df-66bb228a-e7b3-4132-8be8-d2a467bb1846\">\n",
              "    <div class=\"colab-df-container\">\n",
              "      <div>\n",
              "<style scoped>\n",
              "    .dataframe tbody tr th:only-of-type {\n",
              "        vertical-align: middle;\n",
              "    }\n",
              "\n",
              "    .dataframe tbody tr th {\n",
              "        vertical-align: top;\n",
              "    }\n",
              "\n",
              "    .dataframe thead th {\n",
              "        text-align: right;\n",
              "    }\n",
              "</style>\n",
              "<table border=\"1\" class=\"dataframe\">\n",
              "  <thead>\n",
              "    <tr style=\"text-align: right;\">\n",
              "      <th></th>\n",
              "      <th>Age</th>\n",
              "      <th>Fnlwgt</th>\n",
              "      <th>Education_Num</th>\n",
              "      <th>Capital_Gain</th>\n",
              "      <th>Capital_Loss</th>\n",
              "      <th>Hours_Per_Week</th>\n",
              "    </tr>\n",
              "  </thead>\n",
              "  <tbody>\n",
              "    <tr>\n",
              "      <th>count</th>\n",
              "      <td>32561.000000</td>\n",
              "      <td>3.256100e+04</td>\n",
              "      <td>32561.000000</td>\n",
              "      <td>32561.000000</td>\n",
              "      <td>32561.000000</td>\n",
              "      <td>32561.000000</td>\n",
              "    </tr>\n",
              "    <tr>\n",
              "      <th>mean</th>\n",
              "      <td>38.581647</td>\n",
              "      <td>1.897784e+05</td>\n",
              "      <td>10.080679</td>\n",
              "      <td>1077.648844</td>\n",
              "      <td>87.303830</td>\n",
              "      <td>40.437456</td>\n",
              "    </tr>\n",
              "    <tr>\n",
              "      <th>std</th>\n",
              "      <td>13.640433</td>\n",
              "      <td>1.055500e+05</td>\n",
              "      <td>2.572720</td>\n",
              "      <td>7385.292085</td>\n",
              "      <td>402.960219</td>\n",
              "      <td>12.347429</td>\n",
              "    </tr>\n",
              "    <tr>\n",
              "      <th>min</th>\n",
              "      <td>17.000000</td>\n",
              "      <td>1.228500e+04</td>\n",
              "      <td>1.000000</td>\n",
              "      <td>0.000000</td>\n",
              "      <td>0.000000</td>\n",
              "      <td>1.000000</td>\n",
              "    </tr>\n",
              "    <tr>\n",
              "      <th>25%</th>\n",
              "      <td>28.000000</td>\n",
              "      <td>1.178270e+05</td>\n",
              "      <td>9.000000</td>\n",
              "      <td>0.000000</td>\n",
              "      <td>0.000000</td>\n",
              "      <td>40.000000</td>\n",
              "    </tr>\n",
              "    <tr>\n",
              "      <th>50%</th>\n",
              "      <td>37.000000</td>\n",
              "      <td>1.783560e+05</td>\n",
              "      <td>10.000000</td>\n",
              "      <td>0.000000</td>\n",
              "      <td>0.000000</td>\n",
              "      <td>40.000000</td>\n",
              "    </tr>\n",
              "    <tr>\n",
              "      <th>75%</th>\n",
              "      <td>48.000000</td>\n",
              "      <td>2.370510e+05</td>\n",
              "      <td>12.000000</td>\n",
              "      <td>0.000000</td>\n",
              "      <td>0.000000</td>\n",
              "      <td>45.000000</td>\n",
              "    </tr>\n",
              "    <tr>\n",
              "      <th>max</th>\n",
              "      <td>90.000000</td>\n",
              "      <td>1.484705e+06</td>\n",
              "      <td>16.000000</td>\n",
              "      <td>99999.000000</td>\n",
              "      <td>4356.000000</td>\n",
              "      <td>99.000000</td>\n",
              "    </tr>\n",
              "  </tbody>\n",
              "</table>\n",
              "</div>\n",
              "      <button class=\"colab-df-convert\" onclick=\"convertToInteractive('df-66bb228a-e7b3-4132-8be8-d2a467bb1846')\"\n",
              "              title=\"Convert this dataframe to an interactive table.\"\n",
              "              style=\"display:none;\">\n",
              "        \n",
              "  <svg xmlns=\"http://www.w3.org/2000/svg\" height=\"24px\"viewBox=\"0 0 24 24\"\n",
              "       width=\"24px\">\n",
              "    <path d=\"M0 0h24v24H0V0z\" fill=\"none\"/>\n",
              "    <path d=\"M18.56 5.44l.94 2.06.94-2.06 2.06-.94-2.06-.94-.94-2.06-.94 2.06-2.06.94zm-11 1L8.5 8.5l.94-2.06 2.06-.94-2.06-.94L8.5 2.5l-.94 2.06-2.06.94zm10 10l.94 2.06.94-2.06 2.06-.94-2.06-.94-.94-2.06-.94 2.06-2.06.94z\"/><path d=\"M17.41 7.96l-1.37-1.37c-.4-.4-.92-.59-1.43-.59-.52 0-1.04.2-1.43.59L10.3 9.45l-7.72 7.72c-.78.78-.78 2.05 0 2.83L4 21.41c.39.39.9.59 1.41.59.51 0 1.02-.2 1.41-.59l7.78-7.78 2.81-2.81c.8-.78.8-2.07 0-2.86zM5.41 20L4 18.59l7.72-7.72 1.47 1.35L5.41 20z\"/>\n",
              "  </svg>\n",
              "      </button>\n",
              "      \n",
              "  <style>\n",
              "    .colab-df-container {\n",
              "      display:flex;\n",
              "      flex-wrap:wrap;\n",
              "      gap: 12px;\n",
              "    }\n",
              "\n",
              "    .colab-df-convert {\n",
              "      background-color: #E8F0FE;\n",
              "      border: none;\n",
              "      border-radius: 50%;\n",
              "      cursor: pointer;\n",
              "      display: none;\n",
              "      fill: #1967D2;\n",
              "      height: 32px;\n",
              "      padding: 0 0 0 0;\n",
              "      width: 32px;\n",
              "    }\n",
              "\n",
              "    .colab-df-convert:hover {\n",
              "      background-color: #E2EBFA;\n",
              "      box-shadow: 0px 1px 2px rgba(60, 64, 67, 0.3), 0px 1px 3px 1px rgba(60, 64, 67, 0.15);\n",
              "      fill: #174EA6;\n",
              "    }\n",
              "\n",
              "    [theme=dark] .colab-df-convert {\n",
              "      background-color: #3B4455;\n",
              "      fill: #D2E3FC;\n",
              "    }\n",
              "\n",
              "    [theme=dark] .colab-df-convert:hover {\n",
              "      background-color: #434B5C;\n",
              "      box-shadow: 0px 1px 3px 1px rgba(0, 0, 0, 0.15);\n",
              "      filter: drop-shadow(0px 1px 2px rgba(0, 0, 0, 0.3));\n",
              "      fill: #FFFFFF;\n",
              "    }\n",
              "  </style>\n",
              "\n",
              "      <script>\n",
              "        const buttonEl =\n",
              "          document.querySelector('#df-66bb228a-e7b3-4132-8be8-d2a467bb1846 button.colab-df-convert');\n",
              "        buttonEl.style.display =\n",
              "          google.colab.kernel.accessAllowed ? 'block' : 'none';\n",
              "\n",
              "        async function convertToInteractive(key) {\n",
              "          const element = document.querySelector('#df-66bb228a-e7b3-4132-8be8-d2a467bb1846');\n",
              "          const dataTable =\n",
              "            await google.colab.kernel.invokeFunction('convertToInteractive',\n",
              "                                                     [key], {});\n",
              "          if (!dataTable) return;\n",
              "\n",
              "          const docLinkHtml = 'Like what you see? Visit the ' +\n",
              "            '<a target=\"_blank\" href=https://colab.research.google.com/notebooks/data_table.ipynb>data table notebook</a>'\n",
              "            + ' to learn more about interactive tables.';\n",
              "          element.innerHTML = '';\n",
              "          dataTable['output_type'] = 'display_data';\n",
              "          await google.colab.output.renderOutput(dataTable, element);\n",
              "          const docLink = document.createElement('div');\n",
              "          docLink.innerHTML = docLinkHtml;\n",
              "          element.appendChild(docLink);\n",
              "        }\n",
              "      </script>\n",
              "    </div>\n",
              "  </div>\n",
              "  "
            ]
          },
          "metadata": {},
          "execution_count": 8
        }
      ]
    },
    {
      "cell_type": "code",
      "source": [
        "inc_df_c=inc_df\n",
        "columns=inc_df_c.columns\n",
        "columns"
      ],
      "metadata": {
        "colab": {
          "base_uri": "https://localhost:8080/"
        },
        "id": "1QXIWw2cfvth",
        "outputId": "615ca20d-fed8-4ba6-8f30-0a7bdc95f1d5"
      },
      "execution_count": null,
      "outputs": [
        {
          "output_type": "execute_result",
          "data": {
            "text/plain": [
              "Index(['Age', 'WorkClass', 'Fnlwgt', 'Education', 'Education_Num',\n",
              "       'Marital_Status', 'Occupation', 'Relationship', 'Race', 'Gender',\n",
              "       'Capital_Gain', 'Capital_Loss', 'Hours_Per_Week', 'Native_Country',\n",
              "       'Income_Bracket'],\n",
              "      dtype='object')"
            ]
          },
          "metadata": {},
          "execution_count": 9
        }
      ]
    },
    {
      "cell_type": "markdown",
      "source": [
        "#Task_2: Data Preparation and Visualization"
      ],
      "metadata": {
        "id": "fZE3PhmPiWZf"
      }
    },
    {
      "cell_type": "markdown",
      "source": [
        "### Missing Value Treatment"
      ],
      "metadata": {
        "id": "vhU8TeBaigL9"
      }
    },
    {
      "cell_type": "code",
      "source": [
        "missing_values=[\"!\",\"@\",\"#\",\"$\",\"%\",\"^\",\"&\",\"*\",\"(\",\")\",\"-\",\" ?\"]\n",
        "inc_df_c.replace(missing_values,np.nan, inplace=True)"
      ],
      "metadata": {
        "id": "aSGxFFsafkc4"
      },
      "execution_count": null,
      "outputs": []
    },
    {
      "cell_type": "code",
      "source": [
        "inc_df_c.isnull().sum()\n"
      ],
      "metadata": {
        "colab": {
          "base_uri": "https://localhost:8080/"
        },
        "id": "EGSMhI1vgAcz",
        "outputId": "27686384-8427-4519-f48b-d37f3d2febe2"
      },
      "execution_count": null,
      "outputs": [
        {
          "output_type": "execute_result",
          "data": {
            "text/plain": [
              "Age                  0\n",
              "WorkClass         1836\n",
              "Fnlwgt               0\n",
              "Education            0\n",
              "Education_Num        0\n",
              "Marital_Status       0\n",
              "Occupation        1843\n",
              "Relationship         0\n",
              "Race                 0\n",
              "Gender               0\n",
              "Capital_Gain         0\n",
              "Capital_Loss         0\n",
              "Hours_Per_Week       0\n",
              "Native_Country     583\n",
              "Income_Bracket       0\n",
              "dtype: int64"
            ]
          },
          "metadata": {},
          "execution_count": 11
        }
      ]
    },
    {
      "cell_type": "code",
      "source": [
        "inc_df_c = inc_df_c.apply(lambda x: x.fillna(x.value_counts().index[0]))"
      ],
      "metadata": {
        "id": "240ie-VdgHhI"
      },
      "execution_count": null,
      "outputs": []
    },
    {
      "cell_type": "code",
      "source": [
        "inc_df_c.isnull().sum()\n"
      ],
      "metadata": {
        "colab": {
          "base_uri": "https://localhost:8080/"
        },
        "id": "rkc9VP42hMq1",
        "outputId": "4646cdc7-febc-4b3e-dc6b-b803e89f0c36"
      },
      "execution_count": null,
      "outputs": [
        {
          "output_type": "execute_result",
          "data": {
            "text/plain": [
              "Age               0\n",
              "WorkClass         0\n",
              "Fnlwgt            0\n",
              "Education         0\n",
              "Education_Num     0\n",
              "Marital_Status    0\n",
              "Occupation        0\n",
              "Relationship      0\n",
              "Race              0\n",
              "Gender            0\n",
              "Capital_Gain      0\n",
              "Capital_Loss      0\n",
              "Hours_Per_Week    0\n",
              "Native_Country    0\n",
              "Income_Bracket    0\n",
              "dtype: int64"
            ]
          },
          "metadata": {},
          "execution_count": 13
        }
      ]
    },
    {
      "cell_type": "code",
      "source": [
        "# creating list of object datatype columns and converting non-numeric columns into categorical datatype column\n",
        "obj=[]\n",
        "for i in inc_df.select_dtypes('object').columns:\n",
        "  obj.append(i)\n",
        "\n",
        "for i in obj:\n",
        "  inc_df[i]=inc_df[i].astype('category')\n",
        "\n",
        "\n",
        "print(inc_df.dtypes)"
      ],
      "metadata": {
        "colab": {
          "base_uri": "https://localhost:8080/"
        },
        "id": "ilmYYHcNmIMn",
        "outputId": "5c650270-5cd8-4a11-d59d-5aaed886a583"
      },
      "execution_count": null,
      "outputs": [
        {
          "output_type": "stream",
          "name": "stdout",
          "text": [
            "Age                  int64\n",
            "WorkClass         category\n",
            "Fnlwgt               int64\n",
            "Education         category\n",
            "Education_Num        int64\n",
            "Marital_Status    category\n",
            "Occupation        category\n",
            "Relationship      category\n",
            "Race              category\n",
            "Gender            category\n",
            "Capital_Gain         int64\n",
            "Capital_Loss         int64\n",
            "Hours_Per_Week       int64\n",
            "Native_Country    category\n",
            "Income_Bracket    category\n",
            "dtype: object\n"
          ]
        }
      ]
    },
    {
      "cell_type": "code",
      "source": [
        "# Using Label Encoder technique to convert categorical column into numerical type\n",
        "\n",
        "#label_encoder object knows how to understand word labels.\n",
        "label_encoder = preprocessing.LabelEncoder()\n",
        "# Encode labels in column 'species'.\n",
        "inc_df_c['WorkClass']= label_encoder.fit_transform(inc_df_c['WorkClass'])\n",
        "inc_df_c['Education']= label_encoder.fit_transform(inc_df_c['Education'])\n",
        "inc_df_c['Marital_Status']= label_encoder.fit_transform(inc_df_c['Marital_Status'])\n",
        "inc_df_c['Occupation']= label_encoder.fit_transform(inc_df_c['Occupation'])\n",
        "inc_df_c['Gender']= label_encoder.fit_transform(inc_df_c['Gender'])\n",
        "inc_df_c['Native_Country']= label_encoder.fit_transform(inc_df_c['Native_Country'])\n",
        "inc_df_c['Income_Bracket']= label_encoder.fit_transform(inc_df_c['Income_Bracket'])\n",
        "inc_df_c['Relationship']= label_encoder.fit_transform(inc_df_c['Relationship'])\n",
        "inc_df_c['Race']= label_encoder.fit_transform(inc_df_c['Race'])\n"
      ],
      "metadata": {
        "id": "TeLSaXS9mWd_"
      },
      "execution_count": null,
      "outputs": []
    },
    {
      "cell_type": "markdown",
      "source": [
        "#Data Scaling"
      ],
      "metadata": {
        "id": "M55sOmV9ixVp"
      }
    },
    {
      "cell_type": "code",
      "source": [
        "# Defining method to perform data scaling operation based on the type of scaling\n",
        "def feature_scale(scale):\n",
        "  numerics = ['int16', 'int32', 'int64', 'float16', 'float32', 'float64']\n",
        "  new_income_df = inc_df_c.select_dtypes(include=numerics)\n",
        "  if scale == 'minmax':\n",
        "    scaler = MinMaxScaler()\n",
        "  else:\n",
        "    scaler = StandardScaler()\n",
        "  df_scaled = pd.DataFrame(scaler.fit_transform(new_income_df.to_numpy()),columns=new_income_df.columns)\n",
        "  return df_scaled"
      ],
      "metadata": {
        "id": "_E7L4g7xn5ty"
      },
      "execution_count": null,
      "outputs": []
    },
    {
      "cell_type": "code",
      "source": [
        "# scaling the data using MinMax Scaling process\n",
        "scale = 'minmax' #standard\n",
        "inc_df_scaled1=feature_scale(scale)\n",
        "inc_df_scaled1"
      ],
      "metadata": {
        "colab": {
          "base_uri": "https://localhost:8080/",
          "height": 488
        },
        "id": "7XhIOnbGn-ck",
        "outputId": "0b80dc8f-745d-42c8-c9ea-2f521af0a322"
      },
      "execution_count": null,
      "outputs": [
        {
          "output_type": "execute_result",
          "data": {
            "text/plain": [
              "            Age  WorkClass    Fnlwgt  Education  Education_Num  \\\n",
              "0      0.301370   0.857143  0.044302   0.600000       0.800000   \n",
              "1      0.452055   0.714286  0.048238   0.600000       0.800000   \n",
              "2      0.287671   0.428571  0.138113   0.733333       0.533333   \n",
              "3      0.493151   0.428571  0.151068   0.066667       0.400000   \n",
              "4      0.150685   0.428571  0.221488   0.600000       0.800000   \n",
              "...         ...        ...       ...        ...            ...   \n",
              "32556  0.136986   0.428571  0.166404   0.466667       0.733333   \n",
              "32557  0.315068   0.428571  0.096500   0.733333       0.533333   \n",
              "32558  0.561644   0.428571  0.094827   0.733333       0.533333   \n",
              "32559  0.068493   0.428571  0.128499   0.733333       0.533333   \n",
              "32560  0.479452   0.571429  0.187203   0.733333       0.533333   \n",
              "\n",
              "       Marital_Status  Occupation  Relationship  Race  Gender  Capital_Gain  \\\n",
              "0            0.666667    0.000000           0.2   1.0     1.0      0.021740   \n",
              "1            0.333333    0.230769           0.0   1.0     1.0      0.000000   \n",
              "2            0.000000    0.384615           0.2   1.0     1.0      0.000000   \n",
              "3            0.333333    0.384615           0.0   0.5     1.0      0.000000   \n",
              "4            0.333333    0.692308           1.0   0.5     0.0      0.000000   \n",
              "...               ...         ...           ...   ...     ...           ...   \n",
              "32556        0.333333    0.923077           1.0   1.0     0.0      0.000000   \n",
              "32557        0.333333    0.461538           0.0   1.0     1.0      0.000000   \n",
              "32558        1.000000    0.000000           0.8   1.0     0.0      0.000000   \n",
              "32559        0.666667    0.000000           0.6   1.0     1.0      0.000000   \n",
              "32560        0.333333    0.230769           1.0   1.0     0.0      0.150242   \n",
              "\n",
              "       Capital_Loss  Hours_Per_Week  Native_Country  Income_Bracket  \n",
              "0               0.0        0.397959            0.95             0.0  \n",
              "1               0.0        0.122449            0.95             0.0  \n",
              "2               0.0        0.397959            0.95             0.0  \n",
              "3               0.0        0.397959            0.95             0.0  \n",
              "4               0.0        0.397959            0.10             0.0  \n",
              "...             ...             ...             ...             ...  \n",
              "32556           0.0        0.377551            0.95             0.0  \n",
              "32557           0.0        0.397959            0.95             1.0  \n",
              "32558           0.0        0.397959            0.95             0.0  \n",
              "32559           0.0        0.193878            0.95             0.0  \n",
              "32560           0.0        0.397959            0.95             1.0  \n",
              "\n",
              "[32561 rows x 15 columns]"
            ],
            "text/html": [
              "\n",
              "  <div id=\"df-e4c37a53-95db-458a-85ff-2b1f033d46d3\">\n",
              "    <div class=\"colab-df-container\">\n",
              "      <div>\n",
              "<style scoped>\n",
              "    .dataframe tbody tr th:only-of-type {\n",
              "        vertical-align: middle;\n",
              "    }\n",
              "\n",
              "    .dataframe tbody tr th {\n",
              "        vertical-align: top;\n",
              "    }\n",
              "\n",
              "    .dataframe thead th {\n",
              "        text-align: right;\n",
              "    }\n",
              "</style>\n",
              "<table border=\"1\" class=\"dataframe\">\n",
              "  <thead>\n",
              "    <tr style=\"text-align: right;\">\n",
              "      <th></th>\n",
              "      <th>Age</th>\n",
              "      <th>WorkClass</th>\n",
              "      <th>Fnlwgt</th>\n",
              "      <th>Education</th>\n",
              "      <th>Education_Num</th>\n",
              "      <th>Marital_Status</th>\n",
              "      <th>Occupation</th>\n",
              "      <th>Relationship</th>\n",
              "      <th>Race</th>\n",
              "      <th>Gender</th>\n",
              "      <th>Capital_Gain</th>\n",
              "      <th>Capital_Loss</th>\n",
              "      <th>Hours_Per_Week</th>\n",
              "      <th>Native_Country</th>\n",
              "      <th>Income_Bracket</th>\n",
              "    </tr>\n",
              "  </thead>\n",
              "  <tbody>\n",
              "    <tr>\n",
              "      <th>0</th>\n",
              "      <td>0.301370</td>\n",
              "      <td>0.857143</td>\n",
              "      <td>0.044302</td>\n",
              "      <td>0.600000</td>\n",
              "      <td>0.800000</td>\n",
              "      <td>0.666667</td>\n",
              "      <td>0.000000</td>\n",
              "      <td>0.2</td>\n",
              "      <td>1.0</td>\n",
              "      <td>1.0</td>\n",
              "      <td>0.021740</td>\n",
              "      <td>0.0</td>\n",
              "      <td>0.397959</td>\n",
              "      <td>0.95</td>\n",
              "      <td>0.0</td>\n",
              "    </tr>\n",
              "    <tr>\n",
              "      <th>1</th>\n",
              "      <td>0.452055</td>\n",
              "      <td>0.714286</td>\n",
              "      <td>0.048238</td>\n",
              "      <td>0.600000</td>\n",
              "      <td>0.800000</td>\n",
              "      <td>0.333333</td>\n",
              "      <td>0.230769</td>\n",
              "      <td>0.0</td>\n",
              "      <td>1.0</td>\n",
              "      <td>1.0</td>\n",
              "      <td>0.000000</td>\n",
              "      <td>0.0</td>\n",
              "      <td>0.122449</td>\n",
              "      <td>0.95</td>\n",
              "      <td>0.0</td>\n",
              "    </tr>\n",
              "    <tr>\n",
              "      <th>2</th>\n",
              "      <td>0.287671</td>\n",
              "      <td>0.428571</td>\n",
              "      <td>0.138113</td>\n",
              "      <td>0.733333</td>\n",
              "      <td>0.533333</td>\n",
              "      <td>0.000000</td>\n",
              "      <td>0.384615</td>\n",
              "      <td>0.2</td>\n",
              "      <td>1.0</td>\n",
              "      <td>1.0</td>\n",
              "      <td>0.000000</td>\n",
              "      <td>0.0</td>\n",
              "      <td>0.397959</td>\n",
              "      <td>0.95</td>\n",
              "      <td>0.0</td>\n",
              "    </tr>\n",
              "    <tr>\n",
              "      <th>3</th>\n",
              "      <td>0.493151</td>\n",
              "      <td>0.428571</td>\n",
              "      <td>0.151068</td>\n",
              "      <td>0.066667</td>\n",
              "      <td>0.400000</td>\n",
              "      <td>0.333333</td>\n",
              "      <td>0.384615</td>\n",
              "      <td>0.0</td>\n",
              "      <td>0.5</td>\n",
              "      <td>1.0</td>\n",
              "      <td>0.000000</td>\n",
              "      <td>0.0</td>\n",
              "      <td>0.397959</td>\n",
              "      <td>0.95</td>\n",
              "      <td>0.0</td>\n",
              "    </tr>\n",
              "    <tr>\n",
              "      <th>4</th>\n",
              "      <td>0.150685</td>\n",
              "      <td>0.428571</td>\n",
              "      <td>0.221488</td>\n",
              "      <td>0.600000</td>\n",
              "      <td>0.800000</td>\n",
              "      <td>0.333333</td>\n",
              "      <td>0.692308</td>\n",
              "      <td>1.0</td>\n",
              "      <td>0.5</td>\n",
              "      <td>0.0</td>\n",
              "      <td>0.000000</td>\n",
              "      <td>0.0</td>\n",
              "      <td>0.397959</td>\n",
              "      <td>0.10</td>\n",
              "      <td>0.0</td>\n",
              "    </tr>\n",
              "    <tr>\n",
              "      <th>...</th>\n",
              "      <td>...</td>\n",
              "      <td>...</td>\n",
              "      <td>...</td>\n",
              "      <td>...</td>\n",
              "      <td>...</td>\n",
              "      <td>...</td>\n",
              "      <td>...</td>\n",
              "      <td>...</td>\n",
              "      <td>...</td>\n",
              "      <td>...</td>\n",
              "      <td>...</td>\n",
              "      <td>...</td>\n",
              "      <td>...</td>\n",
              "      <td>...</td>\n",
              "      <td>...</td>\n",
              "    </tr>\n",
              "    <tr>\n",
              "      <th>32556</th>\n",
              "      <td>0.136986</td>\n",
              "      <td>0.428571</td>\n",
              "      <td>0.166404</td>\n",
              "      <td>0.466667</td>\n",
              "      <td>0.733333</td>\n",
              "      <td>0.333333</td>\n",
              "      <td>0.923077</td>\n",
              "      <td>1.0</td>\n",
              "      <td>1.0</td>\n",
              "      <td>0.0</td>\n",
              "      <td>0.000000</td>\n",
              "      <td>0.0</td>\n",
              "      <td>0.377551</td>\n",
              "      <td>0.95</td>\n",
              "      <td>0.0</td>\n",
              "    </tr>\n",
              "    <tr>\n",
              "      <th>32557</th>\n",
              "      <td>0.315068</td>\n",
              "      <td>0.428571</td>\n",
              "      <td>0.096500</td>\n",
              "      <td>0.733333</td>\n",
              "      <td>0.533333</td>\n",
              "      <td>0.333333</td>\n",
              "      <td>0.461538</td>\n",
              "      <td>0.0</td>\n",
              "      <td>1.0</td>\n",
              "      <td>1.0</td>\n",
              "      <td>0.000000</td>\n",
              "      <td>0.0</td>\n",
              "      <td>0.397959</td>\n",
              "      <td>0.95</td>\n",
              "      <td>1.0</td>\n",
              "    </tr>\n",
              "    <tr>\n",
              "      <th>32558</th>\n",
              "      <td>0.561644</td>\n",
              "      <td>0.428571</td>\n",
              "      <td>0.094827</td>\n",
              "      <td>0.733333</td>\n",
              "      <td>0.533333</td>\n",
              "      <td>1.000000</td>\n",
              "      <td>0.000000</td>\n",
              "      <td>0.8</td>\n",
              "      <td>1.0</td>\n",
              "      <td>0.0</td>\n",
              "      <td>0.000000</td>\n",
              "      <td>0.0</td>\n",
              "      <td>0.397959</td>\n",
              "      <td>0.95</td>\n",
              "      <td>0.0</td>\n",
              "    </tr>\n",
              "    <tr>\n",
              "      <th>32559</th>\n",
              "      <td>0.068493</td>\n",
              "      <td>0.428571</td>\n",
              "      <td>0.128499</td>\n",
              "      <td>0.733333</td>\n",
              "      <td>0.533333</td>\n",
              "      <td>0.666667</td>\n",
              "      <td>0.000000</td>\n",
              "      <td>0.6</td>\n",
              "      <td>1.0</td>\n",
              "      <td>1.0</td>\n",
              "      <td>0.000000</td>\n",
              "      <td>0.0</td>\n",
              "      <td>0.193878</td>\n",
              "      <td>0.95</td>\n",
              "      <td>0.0</td>\n",
              "    </tr>\n",
              "    <tr>\n",
              "      <th>32560</th>\n",
              "      <td>0.479452</td>\n",
              "      <td>0.571429</td>\n",
              "      <td>0.187203</td>\n",
              "      <td>0.733333</td>\n",
              "      <td>0.533333</td>\n",
              "      <td>0.333333</td>\n",
              "      <td>0.230769</td>\n",
              "      <td>1.0</td>\n",
              "      <td>1.0</td>\n",
              "      <td>0.0</td>\n",
              "      <td>0.150242</td>\n",
              "      <td>0.0</td>\n",
              "      <td>0.397959</td>\n",
              "      <td>0.95</td>\n",
              "      <td>1.0</td>\n",
              "    </tr>\n",
              "  </tbody>\n",
              "</table>\n",
              "<p>32561 rows × 15 columns</p>\n",
              "</div>\n",
              "      <button class=\"colab-df-convert\" onclick=\"convertToInteractive('df-e4c37a53-95db-458a-85ff-2b1f033d46d3')\"\n",
              "              title=\"Convert this dataframe to an interactive table.\"\n",
              "              style=\"display:none;\">\n",
              "        \n",
              "  <svg xmlns=\"http://www.w3.org/2000/svg\" height=\"24px\"viewBox=\"0 0 24 24\"\n",
              "       width=\"24px\">\n",
              "    <path d=\"M0 0h24v24H0V0z\" fill=\"none\"/>\n",
              "    <path d=\"M18.56 5.44l.94 2.06.94-2.06 2.06-.94-2.06-.94-.94-2.06-.94 2.06-2.06.94zm-11 1L8.5 8.5l.94-2.06 2.06-.94-2.06-.94L8.5 2.5l-.94 2.06-2.06.94zm10 10l.94 2.06.94-2.06 2.06-.94-2.06-.94-.94-2.06-.94 2.06-2.06.94z\"/><path d=\"M17.41 7.96l-1.37-1.37c-.4-.4-.92-.59-1.43-.59-.52 0-1.04.2-1.43.59L10.3 9.45l-7.72 7.72c-.78.78-.78 2.05 0 2.83L4 21.41c.39.39.9.59 1.41.59.51 0 1.02-.2 1.41-.59l7.78-7.78 2.81-2.81c.8-.78.8-2.07 0-2.86zM5.41 20L4 18.59l7.72-7.72 1.47 1.35L5.41 20z\"/>\n",
              "  </svg>\n",
              "      </button>\n",
              "      \n",
              "  <style>\n",
              "    .colab-df-container {\n",
              "      display:flex;\n",
              "      flex-wrap:wrap;\n",
              "      gap: 12px;\n",
              "    }\n",
              "\n",
              "    .colab-df-convert {\n",
              "      background-color: #E8F0FE;\n",
              "      border: none;\n",
              "      border-radius: 50%;\n",
              "      cursor: pointer;\n",
              "      display: none;\n",
              "      fill: #1967D2;\n",
              "      height: 32px;\n",
              "      padding: 0 0 0 0;\n",
              "      width: 32px;\n",
              "    }\n",
              "\n",
              "    .colab-df-convert:hover {\n",
              "      background-color: #E2EBFA;\n",
              "      box-shadow: 0px 1px 2px rgba(60, 64, 67, 0.3), 0px 1px 3px 1px rgba(60, 64, 67, 0.15);\n",
              "      fill: #174EA6;\n",
              "    }\n",
              "\n",
              "    [theme=dark] .colab-df-convert {\n",
              "      background-color: #3B4455;\n",
              "      fill: #D2E3FC;\n",
              "    }\n",
              "\n",
              "    [theme=dark] .colab-df-convert:hover {\n",
              "      background-color: #434B5C;\n",
              "      box-shadow: 0px 1px 3px 1px rgba(0, 0, 0, 0.15);\n",
              "      filter: drop-shadow(0px 1px 2px rgba(0, 0, 0, 0.3));\n",
              "      fill: #FFFFFF;\n",
              "    }\n",
              "  </style>\n",
              "\n",
              "      <script>\n",
              "        const buttonEl =\n",
              "          document.querySelector('#df-e4c37a53-95db-458a-85ff-2b1f033d46d3 button.colab-df-convert');\n",
              "        buttonEl.style.display =\n",
              "          google.colab.kernel.accessAllowed ? 'block' : 'none';\n",
              "\n",
              "        async function convertToInteractive(key) {\n",
              "          const element = document.querySelector('#df-e4c37a53-95db-458a-85ff-2b1f033d46d3');\n",
              "          const dataTable =\n",
              "            await google.colab.kernel.invokeFunction('convertToInteractive',\n",
              "                                                     [key], {});\n",
              "          if (!dataTable) return;\n",
              "\n",
              "          const docLinkHtml = 'Like what you see? Visit the ' +\n",
              "            '<a target=\"_blank\" href=https://colab.research.google.com/notebooks/data_table.ipynb>data table notebook</a>'\n",
              "            + ' to learn more about interactive tables.';\n",
              "          element.innerHTML = '';\n",
              "          dataTable['output_type'] = 'display_data';\n",
              "          await google.colab.output.renderOutput(dataTable, element);\n",
              "          const docLink = document.createElement('div');\n",
              "          docLink.innerHTML = docLinkHtml;\n",
              "          element.appendChild(docLink);\n",
              "        }\n",
              "      </script>\n",
              "    </div>\n",
              "  </div>\n",
              "  "
            ]
          },
          "metadata": {},
          "execution_count": 17
        }
      ]
    },
    {
      "cell_type": "code",
      "source": [
        "# IDENTIFY CORRELATION AMONG VARIALES\n",
        "corr=inc_df_scaled1.corr()\n",
        "corr.style.background_gradient(cmap='coolwarm_r')"
      ],
      "metadata": {
        "colab": {
          "base_uri": "https://localhost:8080/",
          "height": 540
        },
        "id": "ZjDKmhHNoETq",
        "outputId": "3a5f24dd-7353-4e53-b4df-dc61f6d7eaf3"
      },
      "execution_count": null,
      "outputs": [
        {
          "output_type": "execute_result",
          "data": {
            "text/plain": [
              "<pandas.io.formats.style.Styler at 0x7f5f07b1db10>"
            ],
            "text/html": [
              "<style type=\"text/css\">\n",
              "#T_40f95_row0_col0, #T_40f95_row1_col1, #T_40f95_row2_col2, #T_40f95_row3_col3, #T_40f95_row4_col4, #T_40f95_row5_col5, #T_40f95_row6_col6, #T_40f95_row7_col7, #T_40f95_row8_col8, #T_40f95_row9_col9, #T_40f95_row10_col10, #T_40f95_row11_col11, #T_40f95_row12_col12, #T_40f95_row13_col13, #T_40f95_row14_col14 {\n",
              "  background-color: #3b4cc0;\n",
              "  color: #f1f1f1;\n",
              "}\n",
              "#T_40f95_row0_col1, #T_40f95_row12_col3 {\n",
              "  background-color: #d44e41;\n",
              "  color: #f1f1f1;\n",
              "}\n",
              "#T_40f95_row0_col2, #T_40f95_row0_col5, #T_40f95_row2_col13, #T_40f95_row3_col6, #T_40f95_row5_col0, #T_40f95_row5_col3, #T_40f95_row6_col3, #T_40f95_row7_col0, #T_40f95_row7_col1, #T_40f95_row7_col4, #T_40f95_row7_col6, #T_40f95_row7_col8, #T_40f95_row7_col9, #T_40f95_row7_col10, #T_40f95_row7_col11, #T_40f95_row7_col12, #T_40f95_row7_col14, #T_40f95_row9_col7 {\n",
              "  background-color: #b40426;\n",
              "  color: #f1f1f1;\n",
              "}\n",
              "#T_40f95_row0_col3, #T_40f95_row4_col2, #T_40f95_row7_col3, #T_40f95_row10_col11 {\n",
              "  background-color: #be242e;\n",
              "  color: #f1f1f1;\n",
              "}\n",
              "#T_40f95_row0_col4, #T_40f95_row11_col8 {\n",
              "  background-color: #dc5d4a;\n",
              "  color: #f1f1f1;\n",
              "}\n",
              "#T_40f95_row0_col6, #T_40f95_row2_col6, #T_40f95_row5_col13, #T_40f95_row5_col14 {\n",
              "  background-color: #c32e31;\n",
              "  color: #f1f1f1;\n",
              "}\n",
              "#T_40f95_row0_col7, #T_40f95_row1_col14, #T_40f95_row3_col0, #T_40f95_row14_col11 {\n",
              "  background-color: #ee8468;\n",
              "  color: #f1f1f1;\n",
              "}\n",
              "#T_40f95_row0_col8, #T_40f95_row3_col13, #T_40f95_row4_col8 {\n",
              "  background-color: #df634e;\n",
              "  color: #f1f1f1;\n",
              "}\n",
              "#T_40f95_row0_col9, #T_40f95_row8_col9 {\n",
              "  background-color: #eed0c0;\n",
              "  color: #000000;\n",
              "}\n",
              "#T_40f95_row0_col10, #T_40f95_row12_col10 {\n",
              "  background-color: #de614d;\n",
              "  color: #f1f1f1;\n",
              "}\n",
              "#T_40f95_row0_col11, #T_40f95_row13_col3 {\n",
              "  background-color: #d95847;\n",
              "  color: #f1f1f1;\n",
              "}\n",
              "#T_40f95_row0_col12, #T_40f95_row11_col0 {\n",
              "  background-color: #f59c7d;\n",
              "  color: #000000;\n",
              "}\n",
              "#T_40f95_row0_col13, #T_40f95_row1_col11, #T_40f95_row3_col1, #T_40f95_row6_col1, #T_40f95_row9_col13, #T_40f95_row11_col2, #T_40f95_row12_col5, #T_40f95_row14_col2 {\n",
              "  background-color: #ca3b37;\n",
              "  color: #f1f1f1;\n",
              "}\n",
              "#T_40f95_row0_col14 {\n",
              "  background-color: #f3c8b2;\n",
              "  color: #000000;\n",
              "}\n",
              "#T_40f95_row1_col0, #T_40f95_row3_col12, #T_40f95_row11_col12 {\n",
              "  background-color: #f39778;\n",
              "  color: #000000;\n",
              "}\n",
              "#T_40f95_row1_col2, #T_40f95_row2_col11, #T_40f95_row7_col13, #T_40f95_row11_col6 {\n",
              "  background-color: #c53334;\n",
              "  color: #f1f1f1;\n",
              "}\n",
              "#T_40f95_row1_col3, #T_40f95_row1_col6, #T_40f95_row2_col4, #T_40f95_row3_col2, #T_40f95_row5_col8, #T_40f95_row5_col12 {\n",
              "  background-color: #c43032;\n",
              "  color: #f1f1f1;\n",
              "}\n",
              "#T_40f95_row1_col4 {\n",
              "  background-color: #d24b40;\n",
              "  color: #f1f1f1;\n",
              "}\n",
              "#T_40f95_row1_col5, #T_40f95_row2_col14, #T_40f95_row13_col5 {\n",
              "  background-color: #ec8165;\n",
              "  color: #f1f1f1;\n",
              "}\n",
              "#T_40f95_row1_col7, #T_40f95_row10_col7, #T_40f95_row11_col7 {\n",
              "  background-color: #f7b79b;\n",
              "  color: #000000;\n",
              "}\n",
              "#T_40f95_row1_col8 {\n",
              "  background-color: #e36b54;\n",
              "  color: #f1f1f1;\n",
              "}\n",
              "#T_40f95_row1_col9 {\n",
              "  background-color: #f0cdbb;\n",
              "  color: #000000;\n",
              "}\n",
              "#T_40f95_row1_col10, #T_40f95_row2_col8, #T_40f95_row3_col10, #T_40f95_row9_col6, #T_40f95_row10_col1 {\n",
              "  background-color: #d1493f;\n",
              "  color: #f1f1f1;\n",
              "}\n",
              "#T_40f95_row1_col12, #T_40f95_row2_col5, #T_40f95_row8_col0, #T_40f95_row8_col12 {\n",
              "  background-color: #f29274;\n",
              "  color: #f1f1f1;\n",
              "}\n",
              "#T_40f95_row1_col13, #T_40f95_row2_col10, #T_40f95_row4_col1, #T_40f95_row6_col13, #T_40f95_row10_col6, #T_40f95_row11_col1, #T_40f95_row11_col3, #T_40f95_row14_col1 {\n",
              "  background-color: #c83836;\n",
              "  color: #f1f1f1;\n",
              "}\n",
              "#T_40f95_row2_col0, #T_40f95_row6_col4 {\n",
              "  background-color: #e36c55;\n",
              "  color: #f1f1f1;\n",
              "}\n",
              "#T_40f95_row2_col1, #T_40f95_row8_col6 {\n",
              "  background-color: #c0282f;\n",
              "  color: #f1f1f1;\n",
              "}\n",
              "#T_40f95_row2_col3, #T_40f95_row5_col10, #T_40f95_row9_col3, #T_40f95_row13_col2 {\n",
              "  background-color: #b8122a;\n",
              "  color: #f1f1f1;\n",
              "}\n",
              "#T_40f95_row2_col7, #T_40f95_row9_col14 {\n",
              "  background-color: #f5c4ac;\n",
              "  color: #000000;\n",
              "}\n",
              "#T_40f95_row2_col9, #T_40f95_row4_col3, #T_40f95_row9_col12, #T_40f95_row12_col14, #T_40f95_row14_col12 {\n",
              "  background-color: #f3c7b1;\n",
              "  color: #000000;\n",
              "}\n",
              "#T_40f95_row2_col12 {\n",
              "  background-color: #eb7d62;\n",
              "  color: #f1f1f1;\n",
              "}\n",
              "#T_40f95_row3_col4 {\n",
              "  background-color: #efcebd;\n",
              "  color: #000000;\n",
              "}\n",
              "#T_40f95_row3_col5, #T_40f95_row9_col8, #T_40f95_row11_col5 {\n",
              "  background-color: #ea7b60;\n",
              "  color: #f1f1f1;\n",
              "}\n",
              "#T_40f95_row3_col7, #T_40f95_row13_col7 {\n",
              "  background-color: #f5c0a7;\n",
              "  color: #000000;\n",
              "}\n",
              "#T_40f95_row3_col8, #T_40f95_row8_col4, #T_40f95_row10_col8, #T_40f95_row14_col3 {\n",
              "  background-color: #da5a49;\n",
              "  color: #f1f1f1;\n",
              "}\n",
              "#T_40f95_row3_col9 {\n",
              "  background-color: #f6bda2;\n",
              "  color: #000000;\n",
              "}\n",
              "#T_40f95_row3_col11, #T_40f95_row5_col6, #T_40f95_row6_col2, #T_40f95_row6_col10, #T_40f95_row10_col2, #T_40f95_row14_col6 {\n",
              "  background-color: #cd423b;\n",
              "  color: #f1f1f1;\n",
              "}\n",
              "#T_40f95_row3_col14, #T_40f95_row10_col12, #T_40f95_row12_col0 {\n",
              "  background-color: #f59f80;\n",
              "  color: #000000;\n",
              "}\n",
              "#T_40f95_row4_col0 {\n",
              "  background-color: #f39577;\n",
              "  color: #000000;\n",
              "}\n",
              "#T_40f95_row4_col5 {\n",
              "  background-color: #e46e56;\n",
              "  color: #f1f1f1;\n",
              "}\n",
              "#T_40f95_row4_col6, #T_40f95_row9_col5, #T_40f95_row12_col11 {\n",
              "  background-color: #d85646;\n",
              "  color: #f1f1f1;\n",
              "}\n",
              "#T_40f95_row4_col7 {\n",
              "  background-color: #f7af91;\n",
              "  color: #000000;\n",
              "}\n",
              "#T_40f95_row4_col9 {\n",
              "  background-color: #f4c5ad;\n",
              "  color: #000000;\n",
              "}\n",
              "#T_40f95_row4_col10, #T_40f95_row8_col13, #T_40f95_row14_col8 {\n",
              "  background-color: #e8765c;\n",
              "  color: #f1f1f1;\n",
              "}\n",
              "#T_40f95_row4_col11 {\n",
              "  background-color: #e0654f;\n",
              "  color: #f1f1f1;\n",
              "}\n",
              "#T_40f95_row4_col12 {\n",
              "  background-color: #f7b396;\n",
              "  color: #000000;\n",
              "}\n",
              "#T_40f95_row4_col13, #T_40f95_row12_col8 {\n",
              "  background-color: #e26952;\n",
              "  color: #f1f1f1;\n",
              "}\n",
              "#T_40f95_row4_col14 {\n",
              "  background-color: #e5d8d1;\n",
              "  color: #000000;\n",
              "}\n",
              "#T_40f95_row5_col1, #T_40f95_row13_col6 {\n",
              "  background-color: #c12b30;\n",
              "  color: #f1f1f1;\n",
              "}\n",
              "#T_40f95_row5_col2, #T_40f95_row9_col2, #T_40f95_row9_col4, #T_40f95_row12_col1 {\n",
              "  background-color: #d55042;\n",
              "  color: #f1f1f1;\n",
              "}\n",
              "#T_40f95_row5_col4 {\n",
              "  background-color: #bb1b2c;\n",
              "  color: #f1f1f1;\n",
              "}\n",
              "#T_40f95_row5_col7 {\n",
              "  background-color: #e0dbd8;\n",
              "  color: #000000;\n",
              "}\n",
              "#T_40f95_row5_col9 {\n",
              "  background-color: #f7a889;\n",
              "  color: #000000;\n",
              "}\n",
              "#T_40f95_row5_col11, #T_40f95_row11_col10, #T_40f95_row12_col6 {\n",
              "  background-color: #bd1f2d;\n",
              "  color: #f1f1f1;\n",
              "}\n",
              "#T_40f95_row6_col0 {\n",
              "  background-color: #f08a6c;\n",
              "  color: #f1f1f1;\n",
              "}\n",
              "#T_40f95_row6_col5 {\n",
              "  background-color: #f39475;\n",
              "  color: #000000;\n",
              "}\n",
              "#T_40f95_row6_col7 {\n",
              "  background-color: #f7bca1;\n",
              "  color: #000000;\n",
              "}\n",
              "#T_40f95_row6_col8, #T_40f95_row8_col1, #T_40f95_row9_col10, #T_40f95_row9_col11 {\n",
              "  background-color: #d65244;\n",
              "  color: #f1f1f1;\n",
              "}\n",
              "#T_40f95_row6_col9, #T_40f95_row11_col9, #T_40f95_row14_col0 {\n",
              "  background-color: #f2cab5;\n",
              "  color: #000000;\n",
              "}\n",
              "#T_40f95_row6_col11, #T_40f95_row10_col3, #T_40f95_row10_col13, #T_40f95_row11_col13, #T_40f95_row13_col11 {\n",
              "  background-color: #cc403a;\n",
              "  color: #f1f1f1;\n",
              "}\n",
              "#T_40f95_row6_col12 {\n",
              "  background-color: #ec7f63;\n",
              "  color: #f1f1f1;\n",
              "}\n",
              "#T_40f95_row6_col14 {\n",
              "  background-color: #f29072;\n",
              "  color: #f1f1f1;\n",
              "}\n",
              "#T_40f95_row7_col2, #T_40f95_row14_col13 {\n",
              "  background-color: #d0473d;\n",
              "  color: #f1f1f1;\n",
              "}\n",
              "#T_40f95_row7_col5 {\n",
              "  background-color: #f6bfa6;\n",
              "  color: #000000;\n",
              "}\n",
              "#T_40f95_row8_col2, #T_40f95_row8_col3, #T_40f95_row12_col2, #T_40f95_row13_col1, #T_40f95_row14_col5 {\n",
              "  background-color: #c73635;\n",
              "  color: #f1f1f1;\n",
              "}\n",
              "#T_40f95_row8_col5, #T_40f95_row11_col4 {\n",
              "  background-color: #e57058;\n",
              "  color: #f1f1f1;\n",
              "}\n",
              "#T_40f95_row8_col7 {\n",
              "  background-color: #f7aa8c;\n",
              "  color: #000000;\n",
              "}\n",
              "#T_40f95_row8_col10, #T_40f95_row12_col13, #T_40f95_row13_col10 {\n",
              "  background-color: #cb3e38;\n",
              "  color: #f1f1f1;\n",
              "}\n",
              "#T_40f95_row8_col11 {\n",
              "  background-color: #cf453c;\n",
              "  color: #f1f1f1;\n",
              "}\n",
              "#T_40f95_row8_col14 {\n",
              "  background-color: #f59d7e;\n",
              "  color: #000000;\n",
              "}\n",
              "#T_40f95_row9_col0 {\n",
              "  background-color: #f6a586;\n",
              "  color: #000000;\n",
              "}\n",
              "#T_40f95_row9_col1 {\n",
              "  background-color: #dd5f4b;\n",
              "  color: #f1f1f1;\n",
              "}\n",
              "#T_40f95_row10_col0 {\n",
              "  background-color: #f6a283;\n",
              "  color: #000000;\n",
              "}\n",
              "#T_40f95_row10_col4 {\n",
              "  background-color: #ed8366;\n",
              "  color: #f1f1f1;\n",
              "}\n",
              "#T_40f95_row10_col5 {\n",
              "  background-color: #e97a5f;\n",
              "  color: #f1f1f1;\n",
              "}\n",
              "#T_40f95_row10_col9 {\n",
              "  background-color: #f2cbb7;\n",
              "  color: #000000;\n",
              "}\n",
              "#T_40f95_row10_col14 {\n",
              "  background-color: #f4c6af;\n",
              "  color: #000000;\n",
              "}\n",
              "#T_40f95_row11_col14 {\n",
              "  background-color: #f7b497;\n",
              "  color: #000000;\n",
              "}\n",
              "#T_40f95_row12_col4, #T_40f95_row13_col14 {\n",
              "  background-color: #f18d6f;\n",
              "  color: #f1f1f1;\n",
              "}\n",
              "#T_40f95_row12_col7, #T_40f95_row13_col0, #T_40f95_row13_col8, #T_40f95_row14_col7 {\n",
              "  background-color: #ef886b;\n",
              "  color: #f1f1f1;\n",
              "}\n",
              "#T_40f95_row12_col9 {\n",
              "  background-color: #d9dce1;\n",
              "  color: #000000;\n",
              "}\n",
              "#T_40f95_row13_col4 {\n",
              "  background-color: #e7745b;\n",
              "  color: #f1f1f1;\n",
              "}\n",
              "#T_40f95_row13_col9 {\n",
              "  background-color: #f5c2aa;\n",
              "  color: #000000;\n",
              "}\n",
              "#T_40f95_row13_col12 {\n",
              "  background-color: #ee8669;\n",
              "  color: #f1f1f1;\n",
              "}\n",
              "#T_40f95_row14_col4 {\n",
              "  background-color: #f2c9b4;\n",
              "  color: #000000;\n",
              "}\n",
              "#T_40f95_row14_col9 {\n",
              "  background-color: #dbdcde;\n",
              "  color: #000000;\n",
              "}\n",
              "#T_40f95_row14_col10 {\n",
              "  background-color: #f5a081;\n",
              "  color: #000000;\n",
              "}\n",
              "</style>\n",
              "<table id=\"T_40f95_\" class=\"dataframe\">\n",
              "  <thead>\n",
              "    <tr>\n",
              "      <th class=\"blank level0\" >&nbsp;</th>\n",
              "      <th class=\"col_heading level0 col0\" >Age</th>\n",
              "      <th class=\"col_heading level0 col1\" >WorkClass</th>\n",
              "      <th class=\"col_heading level0 col2\" >Fnlwgt</th>\n",
              "      <th class=\"col_heading level0 col3\" >Education</th>\n",
              "      <th class=\"col_heading level0 col4\" >Education_Num</th>\n",
              "      <th class=\"col_heading level0 col5\" >Marital_Status</th>\n",
              "      <th class=\"col_heading level0 col6\" >Occupation</th>\n",
              "      <th class=\"col_heading level0 col7\" >Relationship</th>\n",
              "      <th class=\"col_heading level0 col8\" >Race</th>\n",
              "      <th class=\"col_heading level0 col9\" >Gender</th>\n",
              "      <th class=\"col_heading level0 col10\" >Capital_Gain</th>\n",
              "      <th class=\"col_heading level0 col11\" >Capital_Loss</th>\n",
              "      <th class=\"col_heading level0 col12\" >Hours_Per_Week</th>\n",
              "      <th class=\"col_heading level0 col13\" >Native_Country</th>\n",
              "      <th class=\"col_heading level0 col14\" >Income_Bracket</th>\n",
              "    </tr>\n",
              "  </thead>\n",
              "  <tbody>\n",
              "    <tr>\n",
              "      <th id=\"T_40f95_level0_row0\" class=\"row_heading level0 row0\" >Age</th>\n",
              "      <td id=\"T_40f95_row0_col0\" class=\"data row0 col0\" >1.000000</td>\n",
              "      <td id=\"T_40f95_row0_col1\" class=\"data row0 col1\" >0.040504</td>\n",
              "      <td id=\"T_40f95_row0_col2\" class=\"data row0 col2\" >-0.076646</td>\n",
              "      <td id=\"T_40f95_row0_col3\" class=\"data row0 col3\" >-0.010508</td>\n",
              "      <td id=\"T_40f95_row0_col4\" class=\"data row0 col4\" >0.036527</td>\n",
              "      <td id=\"T_40f95_row0_col5\" class=\"data row0 col5\" >-0.266288</td>\n",
              "      <td id=\"T_40f95_row0_col6\" class=\"data row0 col6\" >0.001739</td>\n",
              "      <td id=\"T_40f95_row0_col7\" class=\"data row0 col7\" >-0.263698</td>\n",
              "      <td id=\"T_40f95_row0_col8\" class=\"data row0 col8\" >0.028718</td>\n",
              "      <td id=\"T_40f95_row0_col9\" class=\"data row0 col9\" >0.088832</td>\n",
              "      <td id=\"T_40f95_row0_col10\" class=\"data row0 col10\" >0.077674</td>\n",
              "      <td id=\"T_40f95_row0_col11\" class=\"data row0 col11\" >0.057775</td>\n",
              "      <td id=\"T_40f95_row0_col12\" class=\"data row0 col12\" >0.068756</td>\n",
              "      <td id=\"T_40f95_row0_col13\" class=\"data row0 col13\" >-0.000270</td>\n",
              "      <td id=\"T_40f95_row0_col14\" class=\"data row0 col14\" >0.234037</td>\n",
              "    </tr>\n",
              "    <tr>\n",
              "      <th id=\"T_40f95_level0_row1\" class=\"row_heading level0 row1\" >WorkClass</th>\n",
              "      <td id=\"T_40f95_row1_col0\" class=\"data row1 col0\" >0.040504</td>\n",
              "      <td id=\"T_40f95_row1_col1\" class=\"data row1 col1\" >1.000000</td>\n",
              "      <td id=\"T_40f95_row1_col2\" class=\"data row1 col2\" >-0.024338</td>\n",
              "      <td id=\"T_40f95_row1_col3\" class=\"data row1 col3\" >0.004874</td>\n",
              "      <td id=\"T_40f95_row1_col4\" class=\"data row1 col4\" >0.003536</td>\n",
              "      <td id=\"T_40f95_row1_col5\" class=\"data row1 col5\" >-0.020468</td>\n",
              "      <td id=\"T_40f95_row1_col6\" class=\"data row1 col6\" >0.007110</td>\n",
              "      <td id=\"T_40f95_row1_col7\" class=\"data row1 col7\" >-0.057947</td>\n",
              "      <td id=\"T_40f95_row1_col8\" class=\"data row1 col8\" >0.048350</td>\n",
              "      <td id=\"T_40f95_row1_col9\" class=\"data row1 col9\" >0.071584</td>\n",
              "      <td id=\"T_40f95_row1_col10\" class=\"data row1 col10\" >0.031505</td>\n",
              "      <td id=\"T_40f95_row1_col11\" class=\"data row1 col11\" >0.002644</td>\n",
              "      <td id=\"T_40f95_row1_col12\" class=\"data row1 col12\" >0.042199</td>\n",
              "      <td id=\"T_40f95_row1_col13\" class=\"data row1 col13\" >-0.001625</td>\n",
              "      <td id=\"T_40f95_row1_col14\" class=\"data row1 col14\" >0.002693</td>\n",
              "    </tr>\n",
              "    <tr>\n",
              "      <th id=\"T_40f95_level0_row2\" class=\"row_heading level0 row2\" >Fnlwgt</th>\n",
              "      <td id=\"T_40f95_row2_col0\" class=\"data row2 col0\" >-0.076646</td>\n",
              "      <td id=\"T_40f95_row2_col1\" class=\"data row2 col1\" >-0.024338</td>\n",
              "      <td id=\"T_40f95_row2_col2\" class=\"data row2 col2\" >1.000000</td>\n",
              "      <td id=\"T_40f95_row2_col3\" class=\"data row2 col3\" >-0.028145</td>\n",
              "      <td id=\"T_40f95_row2_col4\" class=\"data row2 col4\" >-0.043195</td>\n",
              "      <td id=\"T_40f95_row2_col5\" class=\"data row2 col5\" >0.028153</td>\n",
              "      <td id=\"T_40f95_row2_col6\" class=\"data row2 col6\" >0.000188</td>\n",
              "      <td id=\"T_40f95_row2_col7\" class=\"data row2 col7\" >0.008931</td>\n",
              "      <td id=\"T_40f95_row2_col8\" class=\"data row2 col8\" >-0.021291</td>\n",
              "      <td id=\"T_40f95_row2_col9\" class=\"data row2 col9\" >0.026858</td>\n",
              "      <td id=\"T_40f95_row2_col10\" class=\"data row2 col10\" >0.000432</td>\n",
              "      <td id=\"T_40f95_row2_col11\" class=\"data row2 col11\" >-0.010252</td>\n",
              "      <td id=\"T_40f95_row2_col12\" class=\"data row2 col12\" >-0.018768</td>\n",
              "      <td id=\"T_40f95_row2_col13\" class=\"data row2 col13\" >-0.063286</td>\n",
              "      <td id=\"T_40f95_row2_col14\" class=\"data row2 col14\" >-0.009463</td>\n",
              "    </tr>\n",
              "    <tr>\n",
              "      <th id=\"T_40f95_level0_row3\" class=\"row_heading level0 row3\" >Education</th>\n",
              "      <td id=\"T_40f95_row3_col0\" class=\"data row3 col0\" >-0.010508</td>\n",
              "      <td id=\"T_40f95_row3_col1\" class=\"data row3 col1\" >0.004874</td>\n",
              "      <td id=\"T_40f95_row3_col2\" class=\"data row3 col2\" >-0.028145</td>\n",
              "      <td id=\"T_40f95_row3_col3\" class=\"data row3 col3\" >1.000000</td>\n",
              "      <td id=\"T_40f95_row3_col4\" class=\"data row3 col4\" >0.359153</td>\n",
              "      <td id=\"T_40f95_row3_col5\" class=\"data row3 col5\" >-0.038407</td>\n",
              "      <td id=\"T_40f95_row3_col6\" class=\"data row3 col6\" >-0.041279</td>\n",
              "      <td id=\"T_40f95_row3_col7\" class=\"data row3 col7\" >-0.010876</td>\n",
              "      <td id=\"T_40f95_row3_col8\" class=\"data row3 col8\" >0.014131</td>\n",
              "      <td id=\"T_40f95_row3_col9\" class=\"data row3 col9\" >-0.027356</td>\n",
              "      <td id=\"T_40f95_row3_col10\" class=\"data row3 col10\" >0.030046</td>\n",
              "      <td id=\"T_40f95_row3_col11\" class=\"data row3 col11\" >0.016746</td>\n",
              "      <td id=\"T_40f95_row3_col12\" class=\"data row3 col12\" >0.055510</td>\n",
              "      <td id=\"T_40f95_row3_col13\" class=\"data row3 col13\" >0.076060</td>\n",
              "      <td id=\"T_40f95_row3_col14\" class=\"data row3 col14\" >0.079317</td>\n",
              "    </tr>\n",
              "    <tr>\n",
              "      <th id=\"T_40f95_level0_row4\" class=\"row_heading level0 row4\" >Education_Num</th>\n",
              "      <td id=\"T_40f95_row4_col0\" class=\"data row4 col0\" >0.036527</td>\n",
              "      <td id=\"T_40f95_row4_col1\" class=\"data row4 col1\" >0.003536</td>\n",
              "      <td id=\"T_40f95_row4_col2\" class=\"data row4 col2\" >-0.043195</td>\n",
              "      <td id=\"T_40f95_row4_col3\" class=\"data row4 col3\" >0.359153</td>\n",
              "      <td id=\"T_40f95_row4_col4\" class=\"data row4 col4\" >1.000000</td>\n",
              "      <td id=\"T_40f95_row4_col5\" class=\"data row4 col5\" >-0.069304</td>\n",
              "      <td id=\"T_40f95_row4_col6\" class=\"data row4 col6\" >0.070954</td>\n",
              "      <td id=\"T_40f95_row4_col7\" class=\"data row4 col7\" >-0.094153</td>\n",
              "      <td id=\"T_40f95_row4_col8\" class=\"data row4 col8\" >0.031838</td>\n",
              "      <td id=\"T_40f95_row4_col9\" class=\"data row4 col9\" >0.012280</td>\n",
              "      <td id=\"T_40f95_row4_col10\" class=\"data row4 col10\" >0.122630</td>\n",
              "      <td id=\"T_40f95_row4_col11\" class=\"data row4 col11\" >0.079923</td>\n",
              "      <td id=\"T_40f95_row4_col12\" class=\"data row4 col12\" >0.148123</td>\n",
              "      <td id=\"T_40f95_row4_col13\" class=\"data row4 col13\" >0.088894</td>\n",
              "      <td id=\"T_40f95_row4_col14\" class=\"data row4 col14\" >0.335154</td>\n",
              "    </tr>\n",
              "    <tr>\n",
              "      <th id=\"T_40f95_level0_row5\" class=\"row_heading level0 row5\" >Marital_Status</th>\n",
              "      <td id=\"T_40f95_row5_col0\" class=\"data row5 col0\" >-0.266288</td>\n",
              "      <td id=\"T_40f95_row5_col1\" class=\"data row5 col1\" >-0.020468</td>\n",
              "      <td id=\"T_40f95_row5_col2\" class=\"data row5 col2\" >0.028153</td>\n",
              "      <td id=\"T_40f95_row5_col3\" class=\"data row5 col3\" >-0.038407</td>\n",
              "      <td id=\"T_40f95_row5_col4\" class=\"data row5 col4\" >-0.069304</td>\n",
              "      <td id=\"T_40f95_row5_col5\" class=\"data row5 col5\" >1.000000</td>\n",
              "      <td id=\"T_40f95_row5_col6\" class=\"data row5 col6\" >0.034962</td>\n",
              "      <td id=\"T_40f95_row5_col7\" class=\"data row5 col7\" >0.185451</td>\n",
              "      <td id=\"T_40f95_row5_col8\" class=\"data row5 col8\" >-0.068013</td>\n",
              "      <td id=\"T_40f95_row5_col9\" class=\"data row5 col9\" >-0.129314</td>\n",
              "      <td id=\"T_40f95_row5_col10\" class=\"data row5 col10\" >-0.043393</td>\n",
              "      <td id=\"T_40f95_row5_col11\" class=\"data row5 col11\" >-0.034187</td>\n",
              "      <td id=\"T_40f95_row5_col12\" class=\"data row5 col12\" >-0.190519</td>\n",
              "      <td id=\"T_40f95_row5_col13\" class=\"data row5 col13\" >-0.021278</td>\n",
              "      <td id=\"T_40f95_row5_col14\" class=\"data row5 col14\" >-0.199307</td>\n",
              "    </tr>\n",
              "    <tr>\n",
              "      <th id=\"T_40f95_level0_row6\" class=\"row_heading level0 row6\" >Occupation</th>\n",
              "      <td id=\"T_40f95_row6_col0\" class=\"data row6 col0\" >0.001739</td>\n",
              "      <td id=\"T_40f95_row6_col1\" class=\"data row6 col1\" >0.007110</td>\n",
              "      <td id=\"T_40f95_row6_col2\" class=\"data row6 col2\" >0.000188</td>\n",
              "      <td id=\"T_40f95_row6_col3\" class=\"data row6 col3\" >-0.041279</td>\n",
              "      <td id=\"T_40f95_row6_col4\" class=\"data row6 col4\" >0.070954</td>\n",
              "      <td id=\"T_40f95_row6_col5\" class=\"data row6 col5\" >0.034962</td>\n",
              "      <td id=\"T_40f95_row6_col6\" class=\"data row6 col6\" >1.000000</td>\n",
              "      <td id=\"T_40f95_row6_col7\" class=\"data row6 col7\" >-0.037451</td>\n",
              "      <td id=\"T_40f95_row6_col8\" class=\"data row6 col8\" >-0.004839</td>\n",
              "      <td id=\"T_40f95_row6_col9\" class=\"data row6 col9\" >0.047461</td>\n",
              "      <td id=\"T_40f95_row6_col10\" class=\"data row6 col10\" >0.018021</td>\n",
              "      <td id=\"T_40f95_row6_col11\" class=\"data row6 col11\" >0.009680</td>\n",
              "      <td id=\"T_40f95_row6_col12\" class=\"data row6 col12\" >-0.012879</td>\n",
              "      <td id=\"T_40f95_row6_col13\" class=\"data row6 col13\" >-0.002217</td>\n",
              "      <td id=\"T_40f95_row6_col14\" class=\"data row6 col14\" >0.034625</td>\n",
              "    </tr>\n",
              "    <tr>\n",
              "      <th id=\"T_40f95_level0_row7\" class=\"row_heading level0 row7\" >Relationship</th>\n",
              "      <td id=\"T_40f95_row7_col0\" class=\"data row7 col0\" >-0.263698</td>\n",
              "      <td id=\"T_40f95_row7_col1\" class=\"data row7 col1\" >-0.057947</td>\n",
              "      <td id=\"T_40f95_row7_col2\" class=\"data row7 col2\" >0.008931</td>\n",
              "      <td id=\"T_40f95_row7_col3\" class=\"data row7 col3\" >-0.010876</td>\n",
              "      <td id=\"T_40f95_row7_col4\" class=\"data row7 col4\" >-0.094153</td>\n",
              "      <td id=\"T_40f95_row7_col5\" class=\"data row7 col5\" >0.185451</td>\n",
              "      <td id=\"T_40f95_row7_col6\" class=\"data row7 col6\" >-0.037451</td>\n",
              "      <td id=\"T_40f95_row7_col7\" class=\"data row7 col7\" >1.000000</td>\n",
              "      <td id=\"T_40f95_row7_col8\" class=\"data row7 col8\" >-0.116055</td>\n",
              "      <td id=\"T_40f95_row7_col9\" class=\"data row7 col9\" >-0.582454</td>\n",
              "      <td id=\"T_40f95_row7_col10\" class=\"data row7 col10\" >-0.057919</td>\n",
              "      <td id=\"T_40f95_row7_col11\" class=\"data row7 col11\" >-0.061062</td>\n",
              "      <td id=\"T_40f95_row7_col12\" class=\"data row7 col12\" >-0.248974</td>\n",
              "      <td id=\"T_40f95_row7_col13\" class=\"data row7 col13\" >-0.010712</td>\n",
              "      <td id=\"T_40f95_row7_col14\" class=\"data row7 col14\" >-0.250918</td>\n",
              "    </tr>\n",
              "    <tr>\n",
              "      <th id=\"T_40f95_level0_row8\" class=\"row_heading level0 row8\" >Race</th>\n",
              "      <td id=\"T_40f95_row8_col0\" class=\"data row8 col0\" >0.028718</td>\n",
              "      <td id=\"T_40f95_row8_col1\" class=\"data row8 col1\" >0.048350</td>\n",
              "      <td id=\"T_40f95_row8_col2\" class=\"data row8 col2\" >-0.021291</td>\n",
              "      <td id=\"T_40f95_row8_col3\" class=\"data row8 col3\" >0.014131</td>\n",
              "      <td id=\"T_40f95_row8_col4\" class=\"data row8 col4\" >0.031838</td>\n",
              "      <td id=\"T_40f95_row8_col5\" class=\"data row8 col5\" >-0.068013</td>\n",
              "      <td id=\"T_40f95_row8_col6\" class=\"data row8 col6\" >-0.004839</td>\n",
              "      <td id=\"T_40f95_row8_col7\" class=\"data row8 col7\" >-0.116055</td>\n",
              "      <td id=\"T_40f95_row8_col8\" class=\"data row8 col8\" >1.000000</td>\n",
              "      <td id=\"T_40f95_row8_col9\" class=\"data row8 col9\" >0.087204</td>\n",
              "      <td id=\"T_40f95_row8_col10\" class=\"data row8 col10\" >0.011145</td>\n",
              "      <td id=\"T_40f95_row8_col11\" class=\"data row8 col11\" >0.018899</td>\n",
              "      <td id=\"T_40f95_row8_col12\" class=\"data row8 col12\" >0.041910</td>\n",
              "      <td id=\"T_40f95_row8_col13\" class=\"data row8 col13\" >0.116529</td>\n",
              "      <td id=\"T_40f95_row8_col14\" class=\"data row8 col14\" >0.071846</td>\n",
              "    </tr>\n",
              "    <tr>\n",
              "      <th id=\"T_40f95_level0_row9\" class=\"row_heading level0 row9\" >Gender</th>\n",
              "      <td id=\"T_40f95_row9_col0\" class=\"data row9 col0\" >0.088832</td>\n",
              "      <td id=\"T_40f95_row9_col1\" class=\"data row9 col1\" >0.071584</td>\n",
              "      <td id=\"T_40f95_row9_col2\" class=\"data row9 col2\" >0.026858</td>\n",
              "      <td id=\"T_40f95_row9_col3\" class=\"data row9 col3\" >-0.027356</td>\n",
              "      <td id=\"T_40f95_row9_col4\" class=\"data row9 col4\" >0.012280</td>\n",
              "      <td id=\"T_40f95_row9_col5\" class=\"data row9 col5\" >-0.129314</td>\n",
              "      <td id=\"T_40f95_row9_col6\" class=\"data row9 col6\" >0.047461</td>\n",
              "      <td id=\"T_40f95_row9_col7\" class=\"data row9 col7\" >-0.582454</td>\n",
              "      <td id=\"T_40f95_row9_col8\" class=\"data row9 col8\" >0.087204</td>\n",
              "      <td id=\"T_40f95_row9_col9\" class=\"data row9 col9\" >1.000000</td>\n",
              "      <td id=\"T_40f95_row9_col10\" class=\"data row9 col10\" >0.048480</td>\n",
              "      <td id=\"T_40f95_row9_col11\" class=\"data row9 col11\" >0.045567</td>\n",
              "      <td id=\"T_40f95_row9_col12\" class=\"data row9 col12\" >0.229309</td>\n",
              "      <td id=\"T_40f95_row9_col13\" class=\"data row9 col13\" >0.002061</td>\n",
              "      <td id=\"T_40f95_row9_col14\" class=\"data row9 col14\" >0.215980</td>\n",
              "    </tr>\n",
              "    <tr>\n",
              "      <th id=\"T_40f95_level0_row10\" class=\"row_heading level0 row10\" >Capital_Gain</th>\n",
              "      <td id=\"T_40f95_row10_col0\" class=\"data row10 col0\" >0.077674</td>\n",
              "      <td id=\"T_40f95_row10_col1\" class=\"data row10 col1\" >0.031505</td>\n",
              "      <td id=\"T_40f95_row10_col2\" class=\"data row10 col2\" >0.000432</td>\n",
              "      <td id=\"T_40f95_row10_col3\" class=\"data row10 col3\" >0.030046</td>\n",
              "      <td id=\"T_40f95_row10_col4\" class=\"data row10 col4\" >0.122630</td>\n",
              "      <td id=\"T_40f95_row10_col5\" class=\"data row10 col5\" >-0.043393</td>\n",
              "      <td id=\"T_40f95_row10_col6\" class=\"data row10 col6\" >0.018021</td>\n",
              "      <td id=\"T_40f95_row10_col7\" class=\"data row10 col7\" >-0.057919</td>\n",
              "      <td id=\"T_40f95_row10_col8\" class=\"data row10 col8\" >0.011145</td>\n",
              "      <td id=\"T_40f95_row10_col9\" class=\"data row10 col9\" >0.048480</td>\n",
              "      <td id=\"T_40f95_row10_col10\" class=\"data row10 col10\" >1.000000</td>\n",
              "      <td id=\"T_40f95_row10_col11\" class=\"data row10 col11\" >-0.031615</td>\n",
              "      <td id=\"T_40f95_row10_col12\" class=\"data row10 col12\" >0.078409</td>\n",
              "      <td id=\"T_40f95_row10_col13\" class=\"data row10 col13\" >0.008819</td>\n",
              "      <td id=\"T_40f95_row10_col14\" class=\"data row10 col14\" >0.223329</td>\n",
              "    </tr>\n",
              "    <tr>\n",
              "      <th id=\"T_40f95_level0_row11\" class=\"row_heading level0 row11\" >Capital_Loss</th>\n",
              "      <td id=\"T_40f95_row11_col0\" class=\"data row11 col0\" >0.057775</td>\n",
              "      <td id=\"T_40f95_row11_col1\" class=\"data row11 col1\" >0.002644</td>\n",
              "      <td id=\"T_40f95_row11_col2\" class=\"data row11 col2\" >-0.010252</td>\n",
              "      <td id=\"T_40f95_row11_col3\" class=\"data row11 col3\" >0.016746</td>\n",
              "      <td id=\"T_40f95_row11_col4\" class=\"data row11 col4\" >0.079923</td>\n",
              "      <td id=\"T_40f95_row11_col5\" class=\"data row11 col5\" >-0.034187</td>\n",
              "      <td id=\"T_40f95_row11_col6\" class=\"data row11 col6\" >0.009680</td>\n",
              "      <td id=\"T_40f95_row11_col7\" class=\"data row11 col7\" >-0.061062</td>\n",
              "      <td id=\"T_40f95_row11_col8\" class=\"data row11 col8\" >0.018899</td>\n",
              "      <td id=\"T_40f95_row11_col9\" class=\"data row11 col9\" >0.045567</td>\n",
              "      <td id=\"T_40f95_row11_col10\" class=\"data row11 col10\" >-0.031615</td>\n",
              "      <td id=\"T_40f95_row11_col11\" class=\"data row11 col11\" >1.000000</td>\n",
              "      <td id=\"T_40f95_row11_col12\" class=\"data row11 col12\" >0.054256</td>\n",
              "      <td id=\"T_40f95_row11_col13\" class=\"data row11 col13\" >0.009401</td>\n",
              "      <td id=\"T_40f95_row11_col14\" class=\"data row11 col14\" >0.150526</td>\n",
              "    </tr>\n",
              "    <tr>\n",
              "      <th id=\"T_40f95_level0_row12\" class=\"row_heading level0 row12\" >Hours_Per_Week</th>\n",
              "      <td id=\"T_40f95_row12_col0\" class=\"data row12 col0\" >0.068756</td>\n",
              "      <td id=\"T_40f95_row12_col1\" class=\"data row12 col1\" >0.042199</td>\n",
              "      <td id=\"T_40f95_row12_col2\" class=\"data row12 col2\" >-0.018768</td>\n",
              "      <td id=\"T_40f95_row12_col3\" class=\"data row12 col3\" >0.055510</td>\n",
              "      <td id=\"T_40f95_row12_col4\" class=\"data row12 col4\" >0.148123</td>\n",
              "      <td id=\"T_40f95_row12_col5\" class=\"data row12 col5\" >-0.190519</td>\n",
              "      <td id=\"T_40f95_row12_col6\" class=\"data row12 col6\" >-0.012879</td>\n",
              "      <td id=\"T_40f95_row12_col7\" class=\"data row12 col7\" >-0.248974</td>\n",
              "      <td id=\"T_40f95_row12_col8\" class=\"data row12 col8\" >0.041910</td>\n",
              "      <td id=\"T_40f95_row12_col9\" class=\"data row12 col9\" >0.229309</td>\n",
              "      <td id=\"T_40f95_row12_col10\" class=\"data row12 col10\" >0.078409</td>\n",
              "      <td id=\"T_40f95_row12_col11\" class=\"data row12 col11\" >0.054256</td>\n",
              "      <td id=\"T_40f95_row12_col12\" class=\"data row12 col12\" >1.000000</td>\n",
              "      <td id=\"T_40f95_row12_col13\" class=\"data row12 col13\" >0.006592</td>\n",
              "      <td id=\"T_40f95_row12_col14\" class=\"data row12 col14\" >0.229689</td>\n",
              "    </tr>\n",
              "    <tr>\n",
              "      <th id=\"T_40f95_level0_row13\" class=\"row_heading level0 row13\" >Native_Country</th>\n",
              "      <td id=\"T_40f95_row13_col0\" class=\"data row13 col0\" >-0.000270</td>\n",
              "      <td id=\"T_40f95_row13_col1\" class=\"data row13 col1\" >-0.001625</td>\n",
              "      <td id=\"T_40f95_row13_col2\" class=\"data row13 col2\" >-0.063286</td>\n",
              "      <td id=\"T_40f95_row13_col3\" class=\"data row13 col3\" >0.076060</td>\n",
              "      <td id=\"T_40f95_row13_col4\" class=\"data row13 col4\" >0.088894</td>\n",
              "      <td id=\"T_40f95_row13_col5\" class=\"data row13 col5\" >-0.021278</td>\n",
              "      <td id=\"T_40f95_row13_col6\" class=\"data row13 col6\" >-0.002217</td>\n",
              "      <td id=\"T_40f95_row13_col7\" class=\"data row13 col7\" >-0.010712</td>\n",
              "      <td id=\"T_40f95_row13_col8\" class=\"data row13 col8\" >0.116529</td>\n",
              "      <td id=\"T_40f95_row13_col9\" class=\"data row13 col9\" >0.002061</td>\n",
              "      <td id=\"T_40f95_row13_col10\" class=\"data row13 col10\" >0.008819</td>\n",
              "      <td id=\"T_40f95_row13_col11\" class=\"data row13 col11\" >0.009401</td>\n",
              "      <td id=\"T_40f95_row13_col12\" class=\"data row13 col12\" >0.006592</td>\n",
              "      <td id=\"T_40f95_row13_col13\" class=\"data row13 col13\" >1.000000</td>\n",
              "      <td id=\"T_40f95_row13_col14\" class=\"data row13 col14\" >0.023058</td>\n",
              "    </tr>\n",
              "    <tr>\n",
              "      <th id=\"T_40f95_level0_row14\" class=\"row_heading level0 row14\" >Income_Bracket</th>\n",
              "      <td id=\"T_40f95_row14_col0\" class=\"data row14 col0\" >0.234037</td>\n",
              "      <td id=\"T_40f95_row14_col1\" class=\"data row14 col1\" >0.002693</td>\n",
              "      <td id=\"T_40f95_row14_col2\" class=\"data row14 col2\" >-0.009463</td>\n",
              "      <td id=\"T_40f95_row14_col3\" class=\"data row14 col3\" >0.079317</td>\n",
              "      <td id=\"T_40f95_row14_col4\" class=\"data row14 col4\" >0.335154</td>\n",
              "      <td id=\"T_40f95_row14_col5\" class=\"data row14 col5\" >-0.199307</td>\n",
              "      <td id=\"T_40f95_row14_col6\" class=\"data row14 col6\" >0.034625</td>\n",
              "      <td id=\"T_40f95_row14_col7\" class=\"data row14 col7\" >-0.250918</td>\n",
              "      <td id=\"T_40f95_row14_col8\" class=\"data row14 col8\" >0.071846</td>\n",
              "      <td id=\"T_40f95_row14_col9\" class=\"data row14 col9\" >0.215980</td>\n",
              "      <td id=\"T_40f95_row14_col10\" class=\"data row14 col10\" >0.223329</td>\n",
              "      <td id=\"T_40f95_row14_col11\" class=\"data row14 col11\" >0.150526</td>\n",
              "      <td id=\"T_40f95_row14_col12\" class=\"data row14 col12\" >0.229689</td>\n",
              "      <td id=\"T_40f95_row14_col13\" class=\"data row14 col13\" >0.023058</td>\n",
              "      <td id=\"T_40f95_row14_col14\" class=\"data row14 col14\" >1.000000</td>\n",
              "    </tr>\n",
              "  </tbody>\n",
              "</table>\n"
            ]
          },
          "metadata": {},
          "execution_count": 18
        }
      ]
    },
    {
      "cell_type": "code",
      "source": [
        "new_df_scaled=inc_df_scaled1[['Age','Education_Num', 'Capital_Gain','Capital_Loss', 'Hours_Per_Week', 'Gender']]\n",
        "hm = sns.heatmap(new_df_scaled.corr(), annot = True)\n",
        "hm.set(xlabel='\\nincome Details', ylabel='income Details', title = \"Correlation matrix of income Data\\n\")\n",
        "plt.show()"
      ],
      "metadata": {
        "colab": {
          "base_uri": "https://localhost:8080/",
          "height": 412
        },
        "id": "IfDE_MkWoKg-",
        "outputId": "5dbf5378-cb05-4a73-ee28-0bd672ab1af8"
      },
      "execution_count": null,
      "outputs": [
        {
          "output_type": "display_data",
          "data": {
            "text/plain": [
              "<Figure size 432x288 with 2 Axes>"
            ],
            "image/png": "[encoded data removed]"
          },
          "metadata": {}
        }
      ]
    },
    {
      "cell_type": "markdown",
      "source": [
        "# Data Splitting"
      ],
      "metadata": {
        "id": "RNHQJw1Ji8tM"
      }
    },
    {
      "cell_type": "code",
      "source": [
        "# splitting dataframe by row index\n",
        "income_df_c=inc_df\n",
        "train_num=int(32561*0.8)\n",
        "income_df_train = income_df_c.iloc[:train_num,:]\n",
        "income_df_test = income_df_c.iloc[(train_num+1):,:]\n",
        "print(\"Shape of new dataframes - {} , {}\".format(income_df_train.shape, income_df_test.shape))"
      ],
      "metadata": {
        "colab": {
          "base_uri": "https://localhost:8080/"
        },
        "id": "O0ZUdeS0oNyR",
        "outputId": "6f5845a2-14b0-4107-9a61-3f7ffc5ff573"
      },
      "execution_count": null,
      "outputs": [
        {
          "output_type": "stream",
          "name": "stdout",
          "text": [
            "Shape of new dataframes - (26048, 15) , (6512, 15)\n"
          ]
        }
      ]
    },
    {
      "cell_type": "code",
      "source": [
        "# splitting dataframe using train_test_split() built in method\n",
        "y = income_df_c['Income_Bracket']\n",
        "X = income_df_c\n",
        "X_train, X_test, y_train, y_test = train_test_split(X, y, test_size=0.2, random_state=20)\n",
        "print(\"Shape of new dataframes - {} , {}\".format(X_train.shape, X_test.shape))"
      ],
      "metadata": {
        "colab": {
          "base_uri": "https://localhost:8080/"
        },
        "id": "8qu5MWFVoWCu",
        "outputId": "60bbd2d4-6517-48af-c359-b3e58d21d523"
      },
      "execution_count": null,
      "outputs": [
        {
          "output_type": "stream",
          "name": "stdout",
          "text": [
            "Shape of new dataframes - (26048, 15) , (6513, 15)\n"
          ]
        }
      ]
    },
    {
      "cell_type": "markdown",
      "source": [
        "# Data Visualization"
      ],
      "metadata": {
        "id": "AJBXOci4jHtD"
      }
    },
    {
      "cell_type": "code",
      "source": [
        "labels=income_df_c['Income_Bracket'].unique()\n",
        "print(labels)\n",
        "def label_function(val):\n",
        "    return f'{val / 100 * len(income_df_c):.0f}\\n{val:.0f}%'\n",
        "fig, ax = plt.subplots(ncols=1, figsize=(10, 5))\n",
        "#plt.pie(loan_df_c['purpose_encode'])\n",
        "income_df_c.groupby(income_df_c['Income_Bracket']).size().plot(kind='pie', autopct=label_function, textprops={'fontsize': 10}, ax=ax)\n",
        "ax.set_ylabel('Per Income_Bracket', size=15)\n",
        "# show plot\n",
        "plt.show()"
      ],
      "metadata": {
        "colab": {
          "base_uri": "https://localhost:8080/",
          "height": 338
        },
        "id": "YDJl4cYYozcU",
        "outputId": "d512a2d6-d05b-4d39-c651-fe5c4d011dc1"
      },
      "execution_count": null,
      "outputs": [
        {
          "output_type": "stream",
          "name": "stdout",
          "text": [
            "[' <=50K', ' >50K']\n",
            "Categories (2, object): [' <=50K', ' >50K']\n"
          ]
        },
        {
          "output_type": "display_data",
          "data": {
            "text/plain": [
              "<Figure size 720x360 with 1 Axes>"
            ],
            "image/png": "[encoded data removed]"
          },
          "metadata": {}
        }
      ]
    },
    {
      "cell_type": "markdown",
      "source": [
        "In this pi chart 76% of people having income less than or equals to 50k and 24% of people having more than salary of 50k."
      ],
      "metadata": {
        "id": "KSj_1w_Zuz1U"
      }
    },
    {
      "cell_type": "code",
      "source": [
        "pd.crosstab(inc_df['Relationship'],inc_df['Gender']).plot(kind='bar')"
      ],
      "metadata": {
        "colab": {
          "base_uri": "https://localhost:8080/",
          "height": 372
        },
        "id": "Xol0__XbqPjz",
        "outputId": "e6527a70-d1e4-45d1-f6f6-acd4547e78da"
      },
      "execution_count": null,
      "outputs": [
        {
          "output_type": "execute_result",
          "data": {
            "text/plain": [
              "<matplotlib.axes._subplots.AxesSubplot at 0x7f5f07747350>"
            ]
          },
          "metadata": {},
          "execution_count": 23
        },
        {
          "output_type": "display_data",
          "data": {
            "text/plain": [
              "<Figure size 432x288 with 1 Axes>"
            ],
            "image/png": "[encoded data removed]"
          },
          "metadata": {}
        }
      ]
    },
    {
      "cell_type": "markdown",
      "source": [
        "it is relationship and gender wise representation and husband having more count."
      ],
      "metadata": {
        "id": "aATAc6a6xUxA"
      }
    },
    {
      "cell_type": "code",
      "source": [
        "labels=income_df_c['WorkClass'].unique()\n",
        "print(labels)\n",
        "def label_function(val):\n",
        "    return f'{val / 100 * len(income_df_c):.0f}\\n{val:.0f}%'\n",
        "fig, ax = plt.subplots(ncols=1, figsize=(10, 5))\n",
        "#plt.pie(loan_df_c['purpose_encode'])\n",
        "income_df_c.groupby(income_df_c['WorkClass']).size().plot(kind='pie', autopct=label_function, textprops={'fontsize': 10}, ax=ax)\n",
        "ax.set_ylabel('WorkClass', size=15)\n",
        "# show plot\n",
        "plt.show()"
      ],
      "metadata": {
        "colab": {
          "base_uri": "https://localhost:8080/",
          "height": 355
        },
        "id": "9QzN_V6jqtIU",
        "outputId": "7eb33bc9-3c4a-4811-eff2-7be39dd1eb38"
      },
      "execution_count": null,
      "outputs": [
        {
          "output_type": "stream",
          "name": "stdout",
          "text": [
            "[' State-gov', ' Self-emp-not-inc', ' Private', ' Federal-gov', ' Local-gov', NaN, ' Self-emp-inc', ' Without-pay', ' Never-worked']\n",
            "Categories (8, object): [' Federal-gov', ' Local-gov', ' Never-worked', ' Private', ' Self-emp-inc',\n",
            "                         ' Self-emp-not-inc', ' State-gov', ' Without-pay']\n"
          ]
        },
        {
          "output_type": "display_data",
          "data": {
            "text/plain": [
              "<Figure size 720x360 with 1 Axes>"
            ],
            "image/png": "[encoded data removed]"
          },
          "metadata": {}
        }
      ]
    },
    {
      "cell_type": "markdown",
      "source": [
        "Private type of workclass is having more count which is 74% of whole data."
      ],
      "metadata": {
        "id": "Ka6JLSFXyAz7"
      }
    },
    {
      "cell_type": "code",
      "source": [
        "num_cols = 3\n",
        "cat_income_df = income_df_c.select_dtypes('category')\n",
        "categorical_cols=cat_income_df.columns\n",
        "num_rows= int(len(categorical_cols)/num_cols)\n",
        "fig, axs = plt.subplots(num_rows, num_cols, tight_layout=True,figsize=(20,12))\n",
        "for col, ax in zip(categorical_cols,axs.flatten()[:len(categorical_cols)]):\n",
        "    stats = cat_income_df[col].value_counts()\n",
        "    values = list(stats)\n",
        "    names = list(map(lambda x : ''.join(('value_',str(x))),list(stats.index)))\n",
        "    ax.bar(names,values)\n",
        "    ax.set_title(col)   \n",
        "plt.show()"
      ],
      "metadata": {
        "colab": {
          "base_uri": "https://localhost:8080/",
          "height": 761
        },
        "id": "n7IfzvXWu936",
        "outputId": "4416ae27-4b8b-4372-8ae6-30ef19f7e144"
      },
      "execution_count": null,
      "outputs": [
        {
          "output_type": "display_data",
          "data": {
            "text/plain": [
              "<Figure size 1440x864 with 9 Axes>"
            ],
            "image/png": "[encoded data removed]"
          },
          "metadata": {}
        }
      ]
    },
    {
      "cell_type": "markdown",
      "source": [
        "#Task_3: Train the model"
      ],
      "metadata": {
        "id": "ey5Bqdm6oJvL"
      }
    },
    {
      "cell_type": "markdown",
      "source": [
        "### Preparation of training and test dataset"
      ],
      "metadata": {
        "id": "h_rvy8n6js-F"
      }
    },
    {
      "cell_type": "code",
      "source": [
        "column_correlation = inc_df.corr()\n",
        "column_correlation"
      ],
      "metadata": {
        "colab": {
          "base_uri": "https://localhost:8080/",
          "height": 238
        },
        "id": "leXcmhnfvRbM",
        "outputId": "17c84091-37fa-4f28-f7c3-bf28655045b4"
      },
      "execution_count": null,
      "outputs": [
        {
          "output_type": "execute_result",
          "data": {
            "text/plain": [
              "                     Age    Fnlwgt  Education_Num  Capital_Gain  Capital_Loss  \\\n",
              "Age             1.000000 -0.076646       0.036527      0.077674      0.057775   \n",
              "Fnlwgt         -0.076646  1.000000      -0.043195      0.000432     -0.010252   \n",
              "Education_Num   0.036527 -0.043195       1.000000      0.122630      0.079923   \n",
              "Capital_Gain    0.077674  0.000432       0.122630      1.000000     -0.031615   \n",
              "Capital_Loss    0.057775 -0.010252       0.079923     -0.031615      1.000000   \n",
              "Hours_Per_Week  0.068756 -0.018768       0.148123      0.078409      0.054256   \n",
              "\n",
              "                Hours_Per_Week  \n",
              "Age                   0.068756  \n",
              "Fnlwgt               -0.018768  \n",
              "Education_Num         0.148123  \n",
              "Capital_Gain          0.078409  \n",
              "Capital_Loss          0.054256  \n",
              "Hours_Per_Week        1.000000  "
            ],
            "text/html": [
              "\n",
              "  <div id=\"df-a4e35d9d-e95c-4f71-b400-f5a7736a5b77\">\n",
              "    <div class=\"colab-df-container\">\n",
              "      <div>\n",
              "<style scoped>\n",
              "    .dataframe tbody tr th:only-of-type {\n",
              "        vertical-align: middle;\n",
              "    }\n",
              "\n",
              "    .dataframe tbody tr th {\n",
              "        vertical-align: top;\n",
              "    }\n",
              "\n",
              "    .dataframe thead th {\n",
              "        text-align: right;\n",
              "    }\n",
              "</style>\n",
              "<table border=\"1\" class=\"dataframe\">\n",
              "  <thead>\n",
              "    <tr style=\"text-align: right;\">\n",
              "      <th></th>\n",
              "      <th>Age</th>\n",
              "      <th>Fnlwgt</th>\n",
              "      <th>Education_Num</th>\n",
              "      <th>Capital_Gain</th>\n",
              "      <th>Capital_Loss</th>\n",
              "      <th>Hours_Per_Week</th>\n",
              "    </tr>\n",
              "  </thead>\n",
              "  <tbody>\n",
              "    <tr>\n",
              "      <th>Age</th>\n",
              "      <td>1.000000</td>\n",
              "      <td>-0.076646</td>\n",
              "      <td>0.036527</td>\n",
              "      <td>0.077674</td>\n",
              "      <td>0.057775</td>\n",
              "      <td>0.068756</td>\n",
              "    </tr>\n",
              "    <tr>\n",
              "      <th>Fnlwgt</th>\n",
              "      <td>-0.076646</td>\n",
              "      <td>1.000000</td>\n",
              "      <td>-0.043195</td>\n",
              "      <td>0.000432</td>\n",
              "      <td>-0.010252</td>\n",
              "      <td>-0.018768</td>\n",
              "    </tr>\n",
              "    <tr>\n",
              "      <th>Education_Num</th>\n",
              "      <td>0.036527</td>\n",
              "      <td>-0.043195</td>\n",
              "      <td>1.000000</td>\n",
              "      <td>0.122630</td>\n",
              "      <td>0.079923</td>\n",
              "      <td>0.148123</td>\n",
              "    </tr>\n",
              "    <tr>\n",
              "      <th>Capital_Gain</th>\n",
              "      <td>0.077674</td>\n",
              "      <td>0.000432</td>\n",
              "      <td>0.122630</td>\n",
              "      <td>1.000000</td>\n",
              "      <td>-0.031615</td>\n",
              "      <td>0.078409</td>\n",
              "    </tr>\n",
              "    <tr>\n",
              "      <th>Capital_Loss</th>\n",
              "      <td>0.057775</td>\n",
              "      <td>-0.010252</td>\n",
              "      <td>0.079923</td>\n",
              "      <td>-0.031615</td>\n",
              "      <td>1.000000</td>\n",
              "      <td>0.054256</td>\n",
              "    </tr>\n",
              "    <tr>\n",
              "      <th>Hours_Per_Week</th>\n",
              "      <td>0.068756</td>\n",
              "      <td>-0.018768</td>\n",
              "      <td>0.148123</td>\n",
              "      <td>0.078409</td>\n",
              "      <td>0.054256</td>\n",
              "      <td>1.000000</td>\n",
              "    </tr>\n",
              "  </tbody>\n",
              "</table>\n",
              "</div>\n",
              "      <button class=\"colab-df-convert\" onclick=\"convertToInteractive('df-a4e35d9d-e95c-4f71-b400-f5a7736a5b77')\"\n",
              "              title=\"Convert this dataframe to an interactive table.\"\n",
              "              style=\"display:none;\">\n",
              "        \n",
              "  <svg xmlns=\"http://www.w3.org/2000/svg\" height=\"24px\"viewBox=\"0 0 24 24\"\n",
              "       width=\"24px\">\n",
              "    <path d=\"M0 0h24v24H0V0z\" fill=\"none\"/>\n",
              "    <path d=\"M18.56 5.44l.94 2.06.94-2.06 2.06-.94-2.06-.94-.94-2.06-.94 2.06-2.06.94zm-11 1L8.5 8.5l.94-2.06 2.06-.94-2.06-.94L8.5 2.5l-.94 2.06-2.06.94zm10 10l.94 2.06.94-2.06 2.06-.94-2.06-.94-.94-2.06-.94 2.06-2.06.94z\"/><path d=\"M17.41 7.96l-1.37-1.37c-.4-.4-.92-.59-1.43-.59-.52 0-1.04.2-1.43.59L10.3 9.45l-7.72 7.72c-.78.78-.78 2.05 0 2.83L4 21.41c.39.39.9.59 1.41.59.51 0 1.02-.2 1.41-.59l7.78-7.78 2.81-2.81c.8-.78.8-2.07 0-2.86zM5.41 20L4 18.59l7.72-7.72 1.47 1.35L5.41 20z\"/>\n",
              "  </svg>\n",
              "      </button>\n",
              "      \n",
              "  <style>\n",
              "    .colab-df-container {\n",
              "      display:flex;\n",
              "      flex-wrap:wrap;\n",
              "      gap: 12px;\n",
              "    }\n",
              "\n",
              "    .colab-df-convert {\n",
              "      background-color: #E8F0FE;\n",
              "      border: none;\n",
              "      border-radius: 50%;\n",
              "      cursor: pointer;\n",
              "      display: none;\n",
              "      fill: #1967D2;\n",
              "      height: 32px;\n",
              "      padding: 0 0 0 0;\n",
              "      width: 32px;\n",
              "    }\n",
              "\n",
              "    .colab-df-convert:hover {\n",
              "      background-color: #E2EBFA;\n",
              "      box-shadow: 0px 1px 2px rgba(60, 64, 67, 0.3), 0px 1px 3px 1px rgba(60, 64, 67, 0.15);\n",
              "      fill: #174EA6;\n",
              "    }\n",
              "\n",
              "    [theme=dark] .colab-df-convert {\n",
              "      background-color: #3B4455;\n",
              "      fill: #D2E3FC;\n",
              "    }\n",
              "\n",
              "    [theme=dark] .colab-df-convert:hover {\n",
              "      background-color: #434B5C;\n",
              "      box-shadow: 0px 1px 3px 1px rgba(0, 0, 0, 0.15);\n",
              "      filter: drop-shadow(0px 1px 2px rgba(0, 0, 0, 0.3));\n",
              "      fill: #FFFFFF;\n",
              "    }\n",
              "  </style>\n",
              "\n",
              "      <script>\n",
              "        const buttonEl =\n",
              "          document.querySelector('#df-a4e35d9d-e95c-4f71-b400-f5a7736a5b77 button.colab-df-convert');\n",
              "        buttonEl.style.display =\n",
              "          google.colab.kernel.accessAllowed ? 'block' : 'none';\n",
              "\n",
              "        async function convertToInteractive(key) {\n",
              "          const element = document.querySelector('#df-a4e35d9d-e95c-4f71-b400-f5a7736a5b77');\n",
              "          const dataTable =\n",
              "            await google.colab.kernel.invokeFunction('convertToInteractive',\n",
              "                                                     [key], {});\n",
              "          if (!dataTable) return;\n",
              "\n",
              "          const docLinkHtml = 'Like what you see? Visit the ' +\n",
              "            '<a target=\"_blank\" href=https://colab.research.google.com/notebooks/data_table.ipynb>data table notebook</a>'\n",
              "            + ' to learn more about interactive tables.';\n",
              "          element.innerHTML = '';\n",
              "          dataTable['output_type'] = 'display_data';\n",
              "          await google.colab.output.renderOutput(dataTable, element);\n",
              "          const docLink = document.createElement('div');\n",
              "          docLink.innerHTML = docLinkHtml;\n",
              "          element.appendChild(docLink);\n",
              "        }\n",
              "      </script>\n",
              "    </div>\n",
              "  </div>\n",
              "  "
            ]
          },
          "metadata": {},
          "execution_count": 26
        }
      ]
    },
    {
      "cell_type": "code",
      "source": [
        "#Creating test and training datasets\n",
        "inc_train, inc_test = train_test_split(inc_df_c,train_size = 0.8)\n",
        "\n",
        "print('Size of training dataset: ', inc_train.shape)\n",
        "print('Size of test dataset: ', inc_test.shape)"
      ],
      "metadata": {
        "colab": {
          "base_uri": "https://localhost:8080/"
        },
        "id": "RmXl_ok0vy9M",
        "outputId": "00b69150-64a7-4b7f-f768-d03b209983dd"
      },
      "execution_count": null,
      "outputs": [
        {
          "output_type": "stream",
          "name": "stdout",
          "text": [
            "Size of training dataset:  (26048, 15)\n",
            "Size of test dataset:  (6513, 15)\n"
          ]
        }
      ]
    },
    {
      "cell_type": "code",
      "source": [
        "X_train = inc_train.drop(columns='Income_Bracket', axis =1)\n",
        "Y_train = inc_train['Income_Bracket']\n",
        "X_test = inc_test.drop(columns='Income_Bracket', axis =1)\n",
        "Y_test = inc_test['Income_Bracket']\n",
        "X_train.shape, Y_train.shape, X_test.shape"
      ],
      "metadata": {
        "colab": {
          "base_uri": "https://localhost:8080/"
        },
        "id": "qnf2HFNPwai3",
        "outputId": "54804012-91f1-48ba-df6b-1e0dfd2a19a6"
      },
      "execution_count": null,
      "outputs": [
        {
          "output_type": "execute_result",
          "data": {
            "text/plain": [
              "((26048, 14), (26048,), (6513, 14))"
            ]
          },
          "metadata": {},
          "execution_count": 28
        }
      ]
    },
    {
      "cell_type": "code",
      "source": [
        "# Logistic Regression - training the model\n",
        "logreg = LogisticRegression()\n",
        "logreg.fit(X_train, Y_train)\n",
        "\n",
        "# Using the trained model to predict the outcome of the X_Test dataset\n",
        "Y_pred = logreg.predict(X_test)\n",
        "\n",
        "#Calculating the accuracy of the training dataset\n",
        "acc_log = round(logreg.score(X_train, Y_train) * 100, 2)\n",
        "acc_log"
      ],
      "metadata": {
        "colab": {
          "base_uri": "https://localhost:8080/"
        },
        "id": "-kkJf5DvxD45",
        "outputId": "6863f1e8-e769-4141-b259-72d0d6716422"
      },
      "execution_count": null,
      "outputs": [
        {
          "output_type": "execute_result",
          "data": {
            "text/plain": [
              "79.02"
            ]
          },
          "metadata": {},
          "execution_count": 29
        }
      ]
    },
    {
      "cell_type": "code",
      "source": [
        "# indicates the value of the slope of each parameter \n",
        "coeff_df = pd.DataFrame(inc_train.columns.delete(0))\n",
        "coeff_df.columns = ['Feature']\n",
        "coeff_df[\"Correlation\"] = pd.Series(logreg.coef_[0])\n",
        "\n",
        "coeff_df.sort_values(by='Correlation', ascending=False)"
      ],
      "metadata": {
        "colab": {
          "base_uri": "https://localhost:8080/",
          "height": 488
        },
        "id": "khMf0hKj3Yez",
        "outputId": "ca148127-1bf7-45be-e216-cee94eed6a17"
      },
      "execution_count": null,
      "outputs": [
        {
          "output_type": "execute_result",
          "data": {
            "text/plain": [
              "           Feature  Correlation\n",
              "12  Native_Country     0.026537\n",
              "4   Marital_Status     0.022326\n",
              "0        WorkClass     0.010985\n",
              "9     Capital_Gain     0.004481\n",
              "11  Hours_Per_Week     0.000745\n",
              "10    Capital_Loss     0.000369\n",
              "2        Education    -0.000002\n",
              "8           Gender    -0.007567\n",
              "3    Education_Num    -0.010303\n",
              "6     Relationship    -0.010460\n",
              "1           Fnlwgt    -0.011105\n",
              "5       Occupation    -0.027726\n",
              "7             Race    -0.030002\n",
              "13  Income_Bracket    -0.066154"
            ],
            "text/html": [
              "\n",
              "  <div id=\"df-2e306cdf-d56c-4d15-a35a-7ee0fe8d3283\">\n",
              "    <div class=\"colab-df-container\">\n",
              "      <div>\n",
              "<style scoped>\n",
              "    .dataframe tbody tr th:only-of-type {\n",
              "        vertical-align: middle;\n",
              "    }\n",
              "\n",
              "    .dataframe tbody tr th {\n",
              "        vertical-align: top;\n",
              "    }\n",
              "\n",
              "    .dataframe thead th {\n",
              "        text-align: right;\n",
              "    }\n",
              "</style>\n",
              "<table border=\"1\" class=\"dataframe\">\n",
              "  <thead>\n",
              "    <tr style=\"text-align: right;\">\n",
              "      <th></th>\n",
              "      <th>Feature</th>\n",
              "      <th>Correlation</th>\n",
              "    </tr>\n",
              "  </thead>\n",
              "  <tbody>\n",
              "    <tr>\n",
              "      <th>12</th>\n",
              "      <td>Native_Country</td>\n",
              "      <td>0.026537</td>\n",
              "    </tr>\n",
              "    <tr>\n",
              "      <th>4</th>\n",
              "      <td>Marital_Status</td>\n",
              "      <td>0.022326</td>\n",
              "    </tr>\n",
              "    <tr>\n",
              "      <th>0</th>\n",
              "      <td>WorkClass</td>\n",
              "      <td>0.010985</td>\n",
              "    </tr>\n",
              "    <tr>\n",
              "      <th>9</th>\n",
              "      <td>Capital_Gain</td>\n",
              "      <td>0.004481</td>\n",
              "    </tr>\n",
              "    <tr>\n",
              "      <th>11</th>\n",
              "      <td>Hours_Per_Week</td>\n",
              "      <td>0.000745</td>\n",
              "    </tr>\n",
              "    <tr>\n",
              "      <th>10</th>\n",
              "      <td>Capital_Loss</td>\n",
              "      <td>0.000369</td>\n",
              "    </tr>\n",
              "    <tr>\n",
              "      <th>2</th>\n",
              "      <td>Education</td>\n",
              "      <td>-0.000002</td>\n",
              "    </tr>\n",
              "    <tr>\n",
              "      <th>8</th>\n",
              "      <td>Gender</td>\n",
              "      <td>-0.007567</td>\n",
              "    </tr>\n",
              "    <tr>\n",
              "      <th>3</th>\n",
              "      <td>Education_Num</td>\n",
              "      <td>-0.010303</td>\n",
              "    </tr>\n",
              "    <tr>\n",
              "      <th>6</th>\n",
              "      <td>Relationship</td>\n",
              "      <td>-0.010460</td>\n",
              "    </tr>\n",
              "    <tr>\n",
              "      <th>1</th>\n",
              "      <td>Fnlwgt</td>\n",
              "      <td>-0.011105</td>\n",
              "    </tr>\n",
              "    <tr>\n",
              "      <th>5</th>\n",
              "      <td>Occupation</td>\n",
              "      <td>-0.027726</td>\n",
              "    </tr>\n",
              "    <tr>\n",
              "      <th>7</th>\n",
              "      <td>Race</td>\n",
              "      <td>-0.030002</td>\n",
              "    </tr>\n",
              "    <tr>\n",
              "      <th>13</th>\n",
              "      <td>Income_Bracket</td>\n",
              "      <td>-0.066154</td>\n",
              "    </tr>\n",
              "  </tbody>\n",
              "</table>\n",
              "</div>\n",
              "      <button class=\"colab-df-convert\" onclick=\"convertToInteractive('df-2e306cdf-d56c-4d15-a35a-7ee0fe8d3283')\"\n",
              "              title=\"Convert this dataframe to an interactive table.\"\n",
              "              style=\"display:none;\">\n",
              "        \n",
              "  <svg xmlns=\"http://www.w3.org/2000/svg\" height=\"24px\"viewBox=\"0 0 24 24\"\n",
              "       width=\"24px\">\n",
              "    <path d=\"M0 0h24v24H0V0z\" fill=\"none\"/>\n",
              "    <path d=\"M18.56 5.44l.94 2.06.94-2.06 2.06-.94-2.06-.94-.94-2.06-.94 2.06-2.06.94zm-11 1L8.5 8.5l.94-2.06 2.06-.94-2.06-.94L8.5 2.5l-.94 2.06-2.06.94zm10 10l.94 2.06.94-2.06 2.06-.94-2.06-.94-.94-2.06-.94 2.06-2.06.94z\"/><path d=\"M17.41 7.96l-1.37-1.37c-.4-.4-.92-.59-1.43-.59-.52 0-1.04.2-1.43.59L10.3 9.45l-7.72 7.72c-.78.78-.78 2.05 0 2.83L4 21.41c.39.39.9.59 1.41.59.51 0 1.02-.2 1.41-.59l7.78-7.78 2.81-2.81c.8-.78.8-2.07 0-2.86zM5.41 20L4 18.59l7.72-7.72 1.47 1.35L5.41 20z\"/>\n",
              "  </svg>\n",
              "      </button>\n",
              "      \n",
              "  <style>\n",
              "    .colab-df-container {\n",
              "      display:flex;\n",
              "      flex-wrap:wrap;\n",
              "      gap: 12px;\n",
              "    }\n",
              "\n",
              "    .colab-df-convert {\n",
              "      background-color: #E8F0FE;\n",
              "      border: none;\n",
              "      border-radius: 50%;\n",
              "      cursor: pointer;\n",
              "      display: none;\n",
              "      fill: #1967D2;\n",
              "      height: 32px;\n",
              "      padding: 0 0 0 0;\n",
              "      width: 32px;\n",
              "    }\n",
              "\n",
              "    .colab-df-convert:hover {\n",
              "      background-color: #E2EBFA;\n",
              "      box-shadow: 0px 1px 2px rgba(60, 64, 67, 0.3), 0px 1px 3px 1px rgba(60, 64, 67, 0.15);\n",
              "      fill: #174EA6;\n",
              "    }\n",
              "\n",
              "    [theme=dark] .colab-df-convert {\n",
              "      background-color: #3B4455;\n",
              "      fill: #D2E3FC;\n",
              "    }\n",
              "\n",
              "    [theme=dark] .colab-df-convert:hover {\n",
              "      background-color: #434B5C;\n",
              "      box-shadow: 0px 1px 3px 1px rgba(0, 0, 0, 0.15);\n",
              "      filter: drop-shadow(0px 1px 2px rgba(0, 0, 0, 0.3));\n",
              "      fill: #FFFFFF;\n",
              "    }\n",
              "  </style>\n",
              "\n",
              "      <script>\n",
              "        const buttonEl =\n",
              "          document.querySelector('#df-2e306cdf-d56c-4d15-a35a-7ee0fe8d3283 button.colab-df-convert');\n",
              "        buttonEl.style.display =\n",
              "          google.colab.kernel.accessAllowed ? 'block' : 'none';\n",
              "\n",
              "        async function convertToInteractive(key) {\n",
              "          const element = document.querySelector('#df-2e306cdf-d56c-4d15-a35a-7ee0fe8d3283');\n",
              "          const dataTable =\n",
              "            await google.colab.kernel.invokeFunction('convertToInteractive',\n",
              "                                                     [key], {});\n",
              "          if (!dataTable) return;\n",
              "\n",
              "          const docLinkHtml = 'Like what you see? Visit the ' +\n",
              "            '<a target=\"_blank\" href=https://colab.research.google.com/notebooks/data_table.ipynb>data table notebook</a>'\n",
              "            + ' to learn more about interactive tables.';\n",
              "          element.innerHTML = '';\n",
              "          dataTable['output_type'] = 'display_data';\n",
              "          await google.colab.output.renderOutput(dataTable, element);\n",
              "          const docLink = document.createElement('div');\n",
              "          docLink.innerHTML = docLinkHtml;\n",
              "          element.appendChild(docLink);\n",
              "        }\n",
              "      </script>\n",
              "    </div>\n",
              "  </div>\n",
              "  "
            ]
          },
          "metadata": {},
          "execution_count": 30
        }
      ]
    },
    {
      "cell_type": "code",
      "source": [
        "#model.intercept_ indicates the intercept with the Y-axis\n",
        "logreg.intercept_"
      ],
      "metadata": {
        "colab": {
          "base_uri": "https://localhost:8080/"
        },
        "id": "3C4r9gEw4Efe",
        "outputId": "e80c73b6-2d20-49fe-a224-d0b1b2827874"
      },
      "execution_count": null,
      "outputs": [
        {
          "output_type": "execute_result",
          "data": {
            "text/plain": [
              "array([-0.00343302])"
            ]
          },
          "metadata": {},
          "execution_count": 31
        }
      ]
    },
    {
      "cell_type": "code",
      "source": [
        "# evalate the model on the test data\n",
        "logreg.score(X_test, Y_test)"
      ],
      "metadata": {
        "colab": {
          "base_uri": "https://localhost:8080/"
        },
        "id": "KY0NxLv44JMQ",
        "outputId": "cd7410cd-0a8f-4c33-d938-e95c5d53db7e"
      },
      "execution_count": null,
      "outputs": [
        {
          "output_type": "execute_result",
          "data": {
            "text/plain": [
              "0.7950253339474896"
            ]
          },
          "metadata": {},
          "execution_count": 32
        }
      ]
    },
    {
      "cell_type": "markdown",
      "source": [
        "#Task_4: Model Evaluation"
      ],
      "metadata": {
        "id": "TBi7AuKU5v1L"
      }
    },
    {
      "cell_type": "markdown",
      "source": [
        "### Confusion matrix"
      ],
      "metadata": {
        "id": "YHZ8YGcAkM69"
      }
    },
    {
      "cell_type": "code",
      "source": [
        "from sklearn.metrics import confusion_matrix\n",
        "\n",
        "print(confusion_matrix(Y_test,Y_pred))\n",
        "\n",
        "tn, fp, fn, tp = confusion_matrix(Y_test,Y_pred).ravel()\n",
        "print(tn, fp, fn, tp)"
      ],
      "metadata": {
        "colab": {
          "base_uri": "https://localhost:8080/"
        },
        "id": "S6Y89pS54ekx",
        "outputId": "d173deba-f34f-4e77-863e-6f54aeb443e2"
      },
      "execution_count": null,
      "outputs": [
        {
          "output_type": "stream",
          "name": "stdout",
          "text": [
            "[[4702  282]\n",
            " [1053  476]]\n",
            "4702 282 1053 476\n"
          ]
        }
      ]
    },
    {
      "cell_type": "code",
      "source": [
        "from sklearn.metrics import recall_score\n",
        "from sklearn.metrics import f1_score\n",
        "from sklearn.metrics import accuracy_score\n",
        "from sklearn.metrics import precision_score\n",
        "\n",
        "print('accuracy:', accuracy_score(Y_test, Y_pred))\n",
        "print('recall:', recall_score(Y_test, Y_pred))\n",
        "print('f1-score:', f1_score(Y_test, Y_pred))\n",
        "print('precision:', precision_score(Y_test, Y_pred))"
      ],
      "metadata": {
        "colab": {
          "base_uri": "https://localhost:8080/"
        },
        "id": "MVxq9SVg7hEe",
        "outputId": "fde216d4-4745-4230-df37-edc8cfd68fdc"
      },
      "execution_count": null,
      "outputs": [
        {
          "output_type": "stream",
          "name": "stdout",
          "text": [
            "accuracy: 0.7950253339474896\n",
            "recall: 0.31131458469587964\n",
            "f1-score: 0.4162658504591168\n",
            "precision: 0.6279683377308707\n"
          ]
        }
      ]
    },
    {
      "cell_type": "code",
      "source": [
        "from sklearn.metrics import roc_auc_score\n",
        "roc=roc_auc_score(Y_test, logreg.predict_proba(X_test)[:,1])\n",
        "roc"
      ],
      "metadata": {
        "colab": {
          "base_uri": "https://localhost:8080/"
        },
        "id": "JKLI2lio7m_u",
        "outputId": "d02527c2-ede8-4b9f-a915-f3336d7d6fbd"
      },
      "execution_count": null,
      "outputs": [
        {
          "output_type": "execute_result",
          "data": {
            "text/plain": [
              "0.7582355099431326"
            ]
          },
          "metadata": {},
          "execution_count": 35
        }
      ]
    },
    {
      "cell_type": "code",
      "source": [
        "# calculate roc curve\n",
        "from sklearn.metrics import roc_curve\n",
        "fpr, tpr, thresholds = roc_curve(Y_test, Y_pred)\n",
        "# calculate AUC\n",
        "auc = roc_auc_score(Y_test, Y_pred)\n",
        "print('AUC: %.3f' % auc)"
      ],
      "metadata": {
        "colab": {
          "base_uri": "https://localhost:8080/"
        },
        "id": "hHTQ04I-7uzs",
        "outputId": "4a45fdf7-945e-4660-ac4c-66907d9648ff"
      },
      "execution_count": null,
      "outputs": [
        {
          "output_type": "stream",
          "name": "stdout",
          "text": [
            "AUC: 0.627\n"
          ]
        }
      ]
    },
    {
      "cell_type": "code",
      "source": [
        "# roc curve and auc\n",
        "from sklearn.datasets import make_classification\n",
        "from sklearn.linear_model import LogisticRegression\n",
        "from sklearn.model_selection import train_test_split\n",
        "from sklearn.metrics import roc_curve\n",
        "from sklearn.metrics import roc_auc_score\n",
        "from matplotlib import pyplot"
      ],
      "metadata": {
        "id": "G0fX05va71it"
      },
      "execution_count": null,
      "outputs": []
    },
    {
      "cell_type": "code",
      "source": [
        "# generate a no skill prediction (majority class)\n",
        "ns_probs = [0 for _ in range(len(Y_test))]"
      ],
      "metadata": {
        "id": "kNcqJK7-77BH"
      },
      "execution_count": null,
      "outputs": []
    },
    {
      "cell_type": "code",
      "source": [
        "# predict probabilities\n",
        "lr_probs = logreg.predict_proba(X_test)"
      ],
      "metadata": {
        "id": "OTfO-8oC8Rdn"
      },
      "execution_count": null,
      "outputs": []
    },
    {
      "cell_type": "code",
      "source": [
        "# keep probabilities for the positive outcome only\n",
        "lr_probs = lr_probs[:, 1]\n",
        "# calculate scores\n",
        "ns_auc = roc_auc_score(Y_test, ns_probs)\n",
        "lr_auc = roc_auc_score(Y_test, lr_probs)\n",
        "# summarize scores\n",
        "print('No Skill: ROC AUC=%.3f' % (ns_auc))\n",
        "print('Logistic: ROC AUC=%.3f' % (lr_auc))\n",
        "# calculate roc curves\n",
        "ns_fpr, ns_tpr, _ = roc_curve(Y_test, ns_probs)\n",
        "lr_fpr, lr_tpr, _ = roc_curve(Y_test, lr_probs)\n",
        "# plot the roc curve for the model\n",
        "pyplot.plot(ns_fpr, ns_tpr, linestyle='--', label='No Skill')\n",
        "pyplot.plot(lr_fpr, lr_tpr, marker='.', label='Logistic')\n",
        "# axis labels\n",
        "pyplot.xlabel('False Positive Rate')\n",
        "pyplot.ylabel('True Positive Rate')\n",
        "# show the legend\n",
        "pyplot.legend()\n",
        "# show the plot\n",
        "pyplot.show()"
      ],
      "metadata": {
        "colab": {
          "base_uri": "https://localhost:8080/",
          "height": 320
        },
        "id": "AgorfQwv8VAz",
        "outputId": "a6eef842-8213-48f0-d24c-1e5e724040f8"
      },
      "execution_count": null,
      "outputs": [
        {
          "output_type": "stream",
          "name": "stdout",
          "text": [
            "No Skill: ROC AUC=0.500\n",
            "Logistic: ROC AUC=0.758\n"
          ]
        },
        {
          "output_type": "display_data",
          "data": {
            "text/plain": [
              "<Figure size 432x288 with 1 Axes>"
            ],
            "image/png": "[encoded data removed]"
          },
          "metadata": {}
        }
      ]
    },
    {
      "cell_type": "markdown",
      "source": [
        "SINCE THE CURVE IS NIETHER TOO CLOSE NOR TOO AWAY FROM \"NO DIFFERENCE LINE(BLUE LINE)\", THE MODEL IS MODERATE(NEITHER GOOD NOR BAD)"
      ],
      "metadata": {
        "id": "LOvaAw2izIzT"
      }
    },
    {
      "cell_type": "code",
      "source": [],
      "metadata": {
        "id": "g3sqpuzP5hJj"
      },
      "execution_count": null,
      "outputs": []
    }
  ]
}